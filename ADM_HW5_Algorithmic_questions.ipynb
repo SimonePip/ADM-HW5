{
  "nbformat": 4,
  "nbformat_minor": 0,
  "metadata": {
    "colab": {
      "name": "ADM_HW5_Algorithmic_questions.ipynb",
      "provenance": []
    },
    "kernelspec": {
      "name": "python3",
      "display_name": "Python 3"
    },
    "language_info": {
      "name": "python"
    }
  },
  "cells": [
    {
      "cell_type": "markdown",
      "source": [
        "#1.  Backtracking\n",
        "Approach: The idea is to assign dormitory one by one to different kids, starting from the index 0. Before assigning a dormitory, check for safety by considering already assigned dormitory to the kid that fight often i.e check if the kids that fight often have the same dormitory or not. If there is any dormitory assignment that does not violate the conditions, mark the dormitory assignment as part of the solution. If no assignment of dormitory is possible then backtrack and return false.\n",
        "\n",
        "Algorithm: \n",
        "\n",
        "1)Create a recursive function that takes the graph, current index, number of vertices, and output dormitory array.\n",
        "\n",
        "2)If the current index is equal to the number of vertices. Print the kids configuration in output array.\n",
        "\n",
        "3)Assign a dormitory to a kid (1 or 2).\n",
        "\n",
        "4)For every assigned dormitory, check if the configuration is safe, (i.e. check if the kids that fight ofte4n do not have the same dormitory) recursively call the function with next index and number of kids\n",
        "\n",
        "5)If any recursive function returns true break the loop and return true.\n",
        "\n",
        "6)If no recursive function returns true then return false.\n",
        "\n",
        "##Complexity \n",
        "####Time Complexity: O(2^n). \n",
        "There are total O(2^n) combination of dormitory. So time complexity is O(2^n). The upperbound time complexity remains the same but the average time taken will be less.\n",
        "####Space Complexity: O(n). \n",
        "Recursive Stack of dormitoryAssignment(…) function will require O(n) space."
      ],
      "metadata": {
        "id": "RMB8nBkxTacM"
      }
    },
    {
      "cell_type": "code",
      "source": [
        "# Python program for solution of dormitory assignment\n",
        "# problem using backtracking\n",
        "\n",
        "class Camp():\n",
        "\n",
        "\tdef __init__(self, n,k):\n",
        "\t\tself.V = n\n",
        "\t\tself.graph = [[0 for column in range(n)]\\\n",
        "\t\t\t\t\t\t\tfor row in range(n)]\n",
        "\n",
        "\t# A utility function to check\n",
        "\t# if the current dormitory assignment\n",
        "\t# is safe for index v\n",
        "\tdef isSafe(self, v, dormitory, c):\n",
        "\t\tfor i in range(self.V):\n",
        "\t\t\tif self.graph[v][i] == 1 and dormitory[i] == c:\n",
        "\t\t\t\treturn False\n",
        "\t\treturn True\n",
        "\t\n",
        "\t# A recursive utility function to solve m\n",
        "\t# dormitory problem\n",
        "\tdef dormitoryAssignmentUtil(self, m, dormitory, v):\n",
        "\t\tif v == self.V:\n",
        "\t\t\treturn True\n",
        "\n",
        "\t\tfor c in range(1, m + 1):\n",
        "\t\t\tif self.isSafe(v, dormitory, c) == True:\n",
        "\t\t\t\tdormitory[v] = c\n",
        "\t\t\t\tif self.dormitoryAssignmentUtil(m, dormitory, v + 1) == True:\n",
        "\t\t\t\t\treturn True\n",
        "\t\t\t\tdormitory[v] = 0\n",
        "\n",
        "\tdef dormitoryAssignment(self, m):\n",
        "\t\tdormitory = [0] * self.V\n",
        "\t\tif self.graphColourUtil(m, dormitory, 0) == None:\n",
        "\t\t\treturn False\n",
        "\n",
        "\t\t# Print the solution\n",
        "\t\tprint (\"Solution exist and Following are the assigned colours:\")\n",
        "\t\tfor c in dormitory:\n",
        "\t\t\tprint (c),\n",
        "\t\treturn True\n",
        "\n",
        "\n"
      ],
      "metadata": {
        "id": "aoNA9v58hKWc"
      },
      "execution_count": 1,
      "outputs": []
    },
    {
      "cell_type": "markdown",
      "source": [
        "#Approach 2:  Using BFS\n",
        "Lets consider every kid as a node of a graph.\n",
        "The approach here is to assign a dormitory 1 to each kid from 1 to n initially. And start travelling BFS from an unvisited starting kid to cover all connected components in one go. On reaching each kid during BFS traversal, do the following:\n",
        "\n",
        "Check all pairs of the given kid.\n",
        "For each kid connected to our kid via a pair:\n",
        "check if the kid fight often with our kid. If same, change the dormitory of the other kid (not the current) to 2.\n",
        "check if it visited or unvisited. If not visited, mark it as visited and push it in a queue.\n",
        "Check condition for maxDormitory till now. If it exceeds 2, return false\n",
        "After visiting all kids, return true (As no violating condition could be found while travelling).\n",
        "\n",
        "##Complexity Analysis:\n",
        "\n",
        "###Time Complexity: O(n+k).\n",
        "###Space Complexity: O(n). For Storing Visited List."
      ],
      "metadata": {
        "id": "eXek7TjWjdgi"
      }
    },
    {
      "cell_type": "code",
      "source": [
        "from queue import Queue\n",
        "\n",
        "class node:\n",
        "\t\n",
        "\tdormitory = 1\n",
        "\tedges = set()\n",
        "\n",
        "def canSleep(nodes, n, m=2):\n",
        "\n",
        "\t# Create a visited array of n\n",
        "\t# nodes, initialized to zero\n",
        "\tvisited = [0 for _ in range(n+1)]\n",
        "\n",
        "\t# maxDormitory used till now are 1 as\n",
        "\t# all kids are in dormitory 1\n",
        "\tmaxDormitory = 1\n",
        "\n",
        "\t# Do a full BFS traversal from\n",
        "\t# all unvisited starting points\n",
        "\tfor i in range(1, n + 1):\n",
        "\t\tif visited[i]:\n",
        "\t\t\tcontinue\n",
        "\n",
        "\t\t\n",
        "\t\tvisited[i] = 1\n",
        "\t\tq = Queue()\n",
        "\t\tq.put(i)\n",
        "\n",
        "\t\t# BFS Travel starts here\n",
        "\t\twhile not q.empty():\n",
        "\t\t\ttop = q.get()\n",
        "\n",
        "\t\t\t\n",
        "\t\t\tfor j in nodes[top].edges:\n",
        "\n",
        "\t\t\t\t\n",
        "\n",
        "\t\t\t\tif nodes[top].fight_often == nodes[j].fight_often:\n",
        "\t\t\t\t\tnodes[j].color = 2\n",
        "\n",
        "\t\t\t\t\n",
        "\t\t\t\t\t\n",
        "\t\t\t\tif maxDormitory > m:\n",
        "\t\t\t\t\tprint(maxDormitory)\n",
        "\t\t\t\t\treturn 0\n",
        "\n",
        "\t\t\t\t\n",
        "\t\t\t\tif not visited[_]:\n",
        "\t\t\t\t\tvisited[_] = 1\n",
        "\t\t\t\t\tq.put(_)\n",
        "\t\t\t\t\t\n",
        "\treturn 1\n",
        "\n",
        "\n"
      ],
      "metadata": {
        "id": "0hNy4goMis7X"
      },
      "execution_count": 2,
      "outputs": []
    },
    {
      "cell_type": "code",
      "source": [
        ""
      ],
      "metadata": {
        "id": "aMHwWPsBRTbg"
      },
      "execution_count": null,
      "outputs": []
    }
  ]
}