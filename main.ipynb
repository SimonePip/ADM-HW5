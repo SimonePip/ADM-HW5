{
 "cells": [
  {
   "cell_type": "markdown",
   "id": "1408143e-5fa4-4c09-beb8-bb3843333407",
   "metadata": {},
   "source": [
    "# Part 1"
   ]
  },
  {
   "cell_type": "code",
   "execution_count": 6,
   "id": "0afe50cc-66a6-4b3d-b086-9bee6d01a7d1",
   "metadata": {},
   "outputs": [],
   "source": [
    "import pandas as pd\n",
    "import numpy as np\n",
    "from tqdm import tqdm\n",
    "import networkx as nx\n",
    "from collections import Counter\n",
    "import random\n",
    "import time\n",
    "import math"
   ]
  },
  {
   "cell_type": "markdown",
   "id": "a89f4ef7-776e-4e10-9a3d-158a045be037",
   "metadata": {},
   "source": [
    "The idea we pursued to create the graph is the following:\n",
    "export the data to pandas dataframes, work on the dataframes and then exploit the built in function of networkx to convert the dataframe into a graph."
   ]
  },
  {
   "cell_type": "code",
   "execution_count": 7,
   "id": "fab4ae26-b912-4c77-8e4e-5f9f0f55c194",
   "metadata": {
    "tags": []
   },
   "outputs": [],
   "source": [
    "a_q=pd.read_csv('a2q',sep=' ', names=['u','v','t'])  #answers to questions\n",
    "c_a=pd.read_csv('c2a',sep=' ', names=['u','v','t'])  #comments to answers\n",
    "c_q=pd.read_csv('c2q',sep=' ', names=['u','v','t'])  #comments to questions"
   ]
  },
  {
   "cell_type": "code",
   "execution_count": 8,
   "id": "245c0a7c-7be6-4c4f-b6c6-ad39e94f271e",
   "metadata": {},
   "outputs": [
    {
     "name": "stdout",
     "output_type": "stream",
     "text": [
      "(17823525, 3) (25405374, 3) (20268151, 3)\n"
     ]
    }
   ],
   "source": [
    "print(a_q.shape,c_a.shape,c_q.shape)"
   ]
  },
  {
   "cell_type": "code",
   "execution_count": 9,
   "id": "ce931860-3e69-45cc-8212-1f14cc0f9ef9",
   "metadata": {},
   "outputs": [],
   "source": [
    "#change time to hours\n",
    "a_q['t'] = a_q['t'].div(3600)\n",
    "c_a['t'] = c_a['t'].div(3600)\n",
    "c_q['t'] = c_q['t'].div(3600)\n",
    "\n",
    "#add type column to dataframes\n",
    "a_q['type'] = 'a_q'\n",
    "c_a['type'] = 'c_a'\n",
    "c_q['type'] = 'c_q'\n",
    "\n",
    "#add weights column initial value of 1\n",
    "a_q['weight'] = 1\n",
    "c_a['weight'] = 1\n",
    "c_q['weight'] = 1\n",
    "\n",
    "#sort by time\n",
    "a_q=a_q.sort_values('t')\n",
    "c_a=c_a.sort_values('t')\n",
    "c_q=c_q.sort_values('t')"
   ]
  },
  {
   "cell_type": "code",
   "execution_count": 10,
   "id": "3340f0f4-ba30-497b-88c5-cde6b34b290c",
   "metadata": {},
   "outputs": [],
   "source": [
    "def time_maxmin(data,min,max): #Retrieve maximum and minimum timestamps of a given dataframe\n",
    "    m = data['t'].min()\n",
    "    M = data['t'].max()\n",
    "    if m < min:\n",
    "        min = m \n",
    "    if M > max:\n",
    "        max = M\n",
    "    return min, max"
   ]
  },
  {
   "cell_type": "code",
   "execution_count": 11,
   "id": "93ed4723-cfda-4007-b002-2021c22b521e",
   "metadata": {
    "tags": []
   },
   "outputs": [],
   "source": [
    "def create_graph(data1,time_window,self_loops=0):\n",
    "    #remove rows with u=v if we don't want self loops\n",
    "    if self_loops == 0: \n",
    "        data1 = data1[data1['u'] != data1['v']]\n",
    "    \n",
    "    #remove rows not having time 't' in given time interval\n",
    "    data1 = data1[data1['t'].between(time_window[0], time_window[1])]\n",
    "    \n",
    "    #assign weight --> 1 for every edge ,+1 every time u,v (interact)\n",
    "    #also remove multiple links bewtween 2 nodes and leave one that has weight 1+#interactions between the nodes\n",
    "    D = data1[['u','v']]\n",
    "    D = D[D.duplicated(keep=False)]\n",
    "    D = D.groupby(list(D)).apply(lambda x: tuple(x.index)).tolist()\n",
    "    for d in D:\n",
    "        ind = list(d)\n",
    "        val = len(ind)\n",
    "        drop = ind[:-1]\n",
    "        data1.at[ind[-1], 'weight'] = val\n",
    "        data1 = data1.drop(index = drop)\n",
    "    \n",
    "    #convert the dataframe into a multi directed graph with attributes of edges being: last time of interaction, type of interaction and weight of interaction\n",
    "    G = nx.from_pandas_edgelist(data1, 'u', 'v', ['t', 'type', 'weight'], create_using = nx.MultiDiGraph())\n",
    "    return G"
   ]
  },
  {
   "cell_type": "code",
   "execution_count": 12,
   "id": "1e398d54-906b-4a26-ae3b-e921a36d17e5",
   "metadata": {},
   "outputs": [
    {
     "name": "stdout",
     "output_type": "stream",
     "text": [
      "338213.2991666667 404798.1744444444\n"
     ]
    }
   ],
   "source": [
    "#here we get maximum and minimum timestamps of the whole data\n",
    "m = 10**(10)\n",
    "M = 0\n",
    "m, M = time_maxmin(a_q, m, M)\n",
    "m, M = time_maxmin(c_a, m, M)\n",
    "m, M = time_maxmin(c_q, m, M)\n",
    "print(m, M)"
   ]
  },
  {
   "cell_type": "code",
   "execution_count": 13,
   "id": "94854c30-6533-4886-b75e-4e75453c315e",
   "metadata": {},
   "outputs": [],
   "source": [
    "#obviously choose a time window that's inside (m,M)\n",
    "time_window = (m, m+350)\n",
    "#and create the graphs out of the 3 dataframes\n",
    "A = create_graph(a_q, time_window)\n",
    "B = create_graph(c_a, time_window)\n",
    "C = create_graph(c_q, time_window)"
   ]
  },
  {
   "cell_type": "code",
   "execution_count": 14,
   "id": "7de57b6e-3d3c-4004-8eb7-f5b652aed930",
   "metadata": {},
   "outputs": [],
   "source": [
    "#merge the graphs\n",
    "G = nx.compose_all([A, B, C])"
   ]
  },
  {
   "cell_type": "markdown",
   "id": "6f983261-b90b-4420-a248-5360fd58742e",
   "metadata": {
    "tags": []
   },
   "source": [
    "# Part 2"
   ]
  },
  {
   "cell_type": "markdown",
   "id": "ca38ce4c-8533-447e-a59d-8f2fe1f54598",
   "metadata": {},
   "source": [
    "## function 1 "
   ]
  },
  {
   "cell_type": "markdown",
   "id": "0f62f930-8512-4d59-8434-6759fb3601c5",
   "metadata": {},
   "source": [
    "It takes in input:\n",
    "\n",
    "    One of the 3 graphs\n",
    "\n",
    "The output should return:\n",
    "\n",
    "    Whether the graph is directed or not\n",
    "    Number of users\n",
    "    Number of answers/comments\n",
    "    Average number of links per user\n",
    "    Density degree of the graph\n",
    "    Whether the graph is sparse or dense\n"
   ]
  },
  {
   "cell_type": "code",
   "execution_count": 38,
   "id": "a992ce6c-477e-42df-82db-286732337f94",
   "metadata": {},
   "outputs": [],
   "source": [
    "def functionality_1(G):\n",
    "    feats=[] \n",
    "    #m = G.number_of_edges()    = n_interactions\n",
    "    #n = sum(G.nodes)           = n_users\n",
    "    \n",
    "    n_interactions = 0\n",
    "    dir_list = []\n",
    "    users=[]\n",
    "    \n",
    "    for u,v,attr in (G.edges(data=True)):\n",
    "        if (G.has_edge(v,u)) and (n_interactions<=len(A.edges(data=True))/2) :\n",
    "            dir_list.append(abs(attr['weight']-G.get_edge_data(72, 9)[0]['weight']))\n",
    "        \n",
    "        if u not in users: users.append(u) #update the users list\n",
    "        if v not in users: users.append(v)\n",
    "\n",
    "        n_interactions += 1 #count interactions\n",
    "        \n",
    "    if all(val == 0 for val in dir_list): direct=False\n",
    "    else: direct=True\n",
    "    \n",
    "    n_users = len(users) #cpount users\n",
    "     \n",
    "    avg_links = 0 #initialize values for avg links and density\n",
    "    density = 0\n",
    "    g = None\n",
    "    if n_users>0: \n",
    "        avg_links = n_interactions/n_users #just compute a mean\n",
    "        \n",
    "        if direct: # we have the 2 cases for directed and undirected graph\n",
    "            density = 2*n_interactions/(n_users*(n_users-1))\n",
    "        else:\n",
    "            density = n_interactions/(n_users*(n_users-1))\n",
    "                                \n",
    "        if density>0.5: #this is straightforward: we are defining a graph to be sparse if its density value<0.5 and dense otherwise\n",
    "            g='dense'\n",
    "        else:\n",
    "            g='sparse'\n",
    "        \n",
    "    #return list with asked values\n",
    "    feats.extend((direct, n_users, n_interactions, avg_links, density, g))\n",
    "    \n",
    "    return feats"
   ]
  },
  {
   "cell_type": "code",
   "execution_count": 39,
   "id": "cfdcabc1-80f5-4bb2-8b86-38048f2fde2f",
   "metadata": {},
   "outputs": [
    {
     "data": {
      "text/plain": [
       "[True, 775, 3790, 4.890322580645162, 0.012636492456447445, 'sparse']"
      ]
     },
     "execution_count": 39,
     "metadata": {},
     "output_type": "execute_result"
    }
   ],
   "source": [
    "functionality_1(G)"
   ]
  },
  {
   "cell_type": "code",
   "execution_count": 11,
   "id": "534ca781-1235-4f1c-ad03-e96336b37143",
   "metadata": {},
   "outputs": [
    {
     "data": {
      "text/plain": [
       "[True, 770, 3677, 4.775324675324676, 0.012419570026852211, 'sparse']"
      ]
     },
     "execution_count": 11,
     "metadata": {},
     "output_type": "execute_result"
    }
   ],
   "source": [
    "functionality_1(A)"
   ]
  },
  {
   "cell_type": "markdown",
   "id": "e76661df-0e8a-4ebe-9a00-c6105823bb85",
   "metadata": {},
   "source": [
    "## function 2 "
   ]
  },
  {
   "cell_type": "markdown",
   "id": "41dc89aa-6ba7-44ad-a2ae-570def036bb6",
   "metadata": {
    "tags": []
   },
   "source": [
    "It takes in input:\n",
    "\n",
    "    A user/node\n",
    "    An interval of time\n",
    "    One of the following metrics: Betweeness 1, PageRank, ClosenessCentrality 3, DegreeCentrality\n",
    "\n",
    "The output should return:\n",
    "\n",
    "    The value of the given metric applied over the complete graph for the given interval of time\n",
    "\n",
    "Give an explanaition regarding the features of the user based on all of the metrics (e.g. if the betweeness metric is high, what does this mean in practice, what if the betweeness is low but it has a high PageRank value, etc.)"
   ]
  },
  {
   "cell_type": "markdown",
   "id": "1a2417bd-91f8-4230-aeb5-4002cd35517a",
   "metadata": {},
   "source": [
    "### PageRank (Random surfer model)"
   ]
  },
  {
   "cell_type": "markdown",
   "id": "182faf12-c06e-4cef-acd8-d008cfa7de59",
   "metadata": {},
   "source": [
    "To compure PageRank we first create the adjacency matrix of the graph, then build the $P^{RW}$ matrix, and after that we assign $\\alpha=0.2$ to create the $P$ matrix using the formula:\n",
    "\n",
    "Given $n=\\#nodes$\n",
    "\n",
    "$P=\\frac{\\alpha}{n}M_1+(1-\\alpha)P^{RW}$ where $M_1$ is a $nxn$ matrix filled with ones.\n",
    "\n",
    "After this just compute for a time $T$"
   ]
  },
  {
   "cell_type": "code",
   "execution_count": 13,
   "id": "46a78caa-47d3-455e-befe-7b60864919a1",
   "metadata": {},
   "outputs": [],
   "source": [
    "def build_adj_matrix(G,n): #create adjacency matrix of the graph\n",
    "    if n == 0: raise('No nodes found')\n",
    "    else: #we opted for doing it with a  dictionary in which we store a 1 if there is a edge between the 2 nodes\n",
    "        ones = {} \n",
    "        \n",
    "        for u,v in sorted(list(G.edges())):\n",
    "            ones[(u,v)] = 1 \n",
    "    return ones"
   ]
  },
  {
   "cell_type": "code",
   "execution_count": 14,
   "id": "9894a92e-db24-4a1f-be56-8a1e94f0db30",
   "metadata": {},
   "outputs": [],
   "source": [
    "def mapper(G): #return dictionary with nodes as keys and index in matrix as value\n",
    "    conv={}    #maps from nodes to values in matrix, can be used in the other way too\n",
    "    counter=0\n",
    "    for u in sorted(G.nodes):\n",
    "        conv[u]=counter\n",
    "        counter+=1\n",
    "    return conv"
   ]
  },
  {
   "cell_type": "code",
   "execution_count": 15,
   "id": "d0dc224c-66c1-466f-9408-b4443f3f0b3b",
   "metadata": {},
   "outputs": [],
   "source": [
    "def no_tp_P(G,mat,mapper,n):\n",
    "    keys = list(mat.keys())\n",
    "    c = Counter(u for u,v in keys) #count number of occurances of each node, so we know by what value we have to divide to obtain P^{RW}\n",
    "    for source in sorted(list(G)):\n",
    "        for (u,v) in keys:\n",
    "            if source == u and c[source] > 0:\n",
    "                mat[(u,v)] = 1/c[source] #we divide by the value here\n",
    "    keys = list(mat.keys())\n",
    "    M=np.zeros(shape=(n,n)) #build ndarray (aka matrix of P^{RW}) nxn \n",
    "    for (u,v) in keys:\n",
    "        value=mat[(u,v)]\n",
    "        i=mapper[u]\n",
    "        j=mapper[v]\n",
    "        M[i][j]=value\n",
    "    return M"
   ]
  },
  {
   "cell_type": "code",
   "execution_count": 16,
   "id": "0ee1c5c0-562a-47e7-ae99-7e4108351e24",
   "metadata": {},
   "outputs": [],
   "source": [
    "def build_P(M, alpha, n): #create the P matrix from given alpha and P^{RW}\n",
    "    P = (alpha/n * np.ones((n,n))) + ((1-alpha)*(M))   \n",
    "    return P"
   ]
  },
  {
   "cell_type": "code",
   "execution_count": 17,
   "id": "c86bafb1-637b-49f8-9775-aab9f89e0090",
   "metadata": {},
   "outputs": [],
   "source": [
    "def RandomSurfer(G, alpha, n, T=100): #T=time, aka n_iterations\n",
    "    \n",
    "    print('sit back and relax, this is going to take some time')\n",
    "    #Build P\n",
    "    mat = build_adj_matrix(G,n) \n",
    "    mapp = mapper(G)\n",
    "    mat = no_tp_P(G,mat,mapp,n)\n",
    "    P = build_P(mat, alpha, n)\n",
    "    \n",
    "    #randomize the starting point\n",
    "    start = random.randint(0,n)\n",
    "    #retrieve node given its index in amtrix\n",
    "    key_list = list(mapp.keys())\n",
    "    val_list = list(mapp.values())\n",
    "    s = key_list[val_list.index(start)] #s=starting node\n",
    "    \n",
    "    print(('starting from node {}').format(s))\n",
    "    \n",
    "    #initialize vecotr with all zeros except 1 at starting point\n",
    "    q0=np.zeros((n,1))\n",
    "    q0[start]=1\n",
    "    store_value=[]\n",
    "    conv=False\n",
    "    for t in tqdm(range(T)):\n",
    "        q = np.matmul(q0.T, np.linalg.matrix_power(P, t)) #q_t=q0 * P^t\n",
    "        if (t>0) and (np.array_equal(q, store_value[-1])):\n",
    "            print(('converged in {} steps').format(t-1))\n",
    "            q=store_value[-2] #else we are taking a all zeros array\n",
    "            conv=True\n",
    "            break\n",
    "        store_value.append(q)\n",
    "    if conv == False: print(\"didn't converge\")\n",
    "    return q"
   ]
  },
  {
   "cell_type": "code",
   "execution_count": 18,
   "id": "7994f060-631a-46c6-80c3-8024b29e09ac",
   "metadata": {},
   "outputs": [
    {
     "name": "stdout",
     "output_type": "stream",
     "text": [
      "sit back and relax, this is going to take some time\n",
      "starting from node 735\n"
     ]
    },
    {
     "name": "stderr",
     "output_type": "stream",
     "text": [
      "100%|███████████████████████████████████| 100/100 [00:10<00:00,  9.54it/s]"
     ]
    },
    {
     "name": "stdout",
     "output_type": "stream",
     "text": [
      "didn't converge\n"
     ]
    },
    {
     "name": "stderr",
     "output_type": "stream",
     "text": [
      "\n"
     ]
    },
    {
     "data": {
      "text/plain": [
       "array([[4.47837904e-07, 1.10216945e-07, 2.71801778e-08, 9.18040328e-08,\n",
       "        9.29638247e-08, 1.67532275e-07, 6.46394559e-08, 7.31637875e-08,\n",
       "        4.35825824e-07, 2.71801778e-08, 2.71801778e-08, 8.89902939e-08,\n",
       "        3.05696362e-08, 8.95072883e-07, 2.42772662e-07, 2.71801778e-08,\n",
       "        2.71801778e-08, 4.22151121e-07, 8.81972785e-08, 1.83679545e-07,\n",
       "        1.56809569e-07, 3.06691125e-07, 5.07803235e-08, 7.91152560e-08,\n",
       "        1.66772826e-07, 1.44079770e-07, 5.11045214e-08, 1.04349412e-07,\n",
       "        2.71801778e-08, 3.02387080e-07, 1.68761385e-07, 1.65231848e-07,\n",
       "        1.37947298e-07, 3.45798833e-07, 1.01931708e-07, 7.17158212e-07,\n",
       "        2.71801778e-08, 1.48495059e-07, 1.62505691e-07, 1.46243899e-07,\n",
       "        5.56474338e-07, 4.27047421e-07, 1.30149619e-07, 3.44616976e-07,\n",
       "        6.23704010e-08, 1.12442467e-07, 9.96061944e-08, 1.20273975e-07,\n",
       "        2.71801778e-08, 2.46208122e-07, 1.11877657e-06, 1.34402333e-07,\n",
       "        7.54611945e-07, 1.29292817e-07, 9.32706725e-08, 1.13253440e-07,\n",
       "        2.71801778e-08, 1.68662631e-07, 2.71801778e-08, 4.80621220e-07,\n",
       "        1.59106757e-07, 5.09452842e-08, 2.80586264e-07, 2.01363847e-06,\n",
       "        9.15160322e-07, 1.21411392e-07, 1.93531695e-07, 9.96688035e-08,\n",
       "        2.71801778e-08, 1.05594569e-07, 6.52457488e-08, 2.71801778e-08,\n",
       "        1.01823880e-07, 5.46905628e-08, 9.39394227e-08, 3.23786835e-07,\n",
       "        2.71801778e-08, 7.85409294e-08, 4.21064475e-07, 1.36553966e-07,\n",
       "        2.71801778e-08, 2.71063206e-07, 1.56483133e-06, 5.70489885e-07,\n",
       "        2.71801778e-08, 2.71801778e-08, 7.36082727e-08, 1.29704466e-07,\n",
       "        7.90206899e-07, 2.46589395e-07, 7.12931252e-08, 2.81457396e-07,\n",
       "        3.62159960e-07, 6.00162727e-08, 2.71801778e-08, 3.21104641e-07,\n",
       "        1.18330183e-07, 2.71801778e-08, 2.71801778e-08, 1.16009021e-07,\n",
       "        2.71801778e-08, 2.48133521e-07, 2.14304830e-07, 2.39343442e-07,\n",
       "        8.80100293e-08, 8.32552970e-08, 3.70128460e-08, 2.71801778e-08,\n",
       "        4.44507059e-08, 2.94655806e-08, 2.71801778e-08, 5.64862364e-08,\n",
       "        3.51104803e-08, 6.89113271e-08, 2.71801778e-08, 6.59541839e-08,\n",
       "        8.29570066e-08, 3.91423496e-08, 2.71801778e-08, 2.16110641e-07,\n",
       "        3.67286969e-08, 2.71801778e-08, 2.77782864e-08, 3.69317479e-08,\n",
       "        5.71359381e-08, 2.71801778e-08, 6.28970230e-08, 2.14203712e-07,\n",
       "        1.17858007e-07, 5.90793025e-08, 2.71801778e-08, 1.05570301e-07,\n",
       "        4.20769206e-07, 2.95626235e-07, 3.34033477e-07, 1.53659715e-07,\n",
       "        2.71801778e-08, 7.07874774e-08, 2.65516914e-07, 8.10648320e-08,\n",
       "        2.08848679e-07, 7.74247452e-07, 6.27875233e-07, 2.13497737e-07,\n",
       "        1.00532052e-07, 6.09561348e-08, 8.50230173e-08, 2.71801778e-08,\n",
       "        7.62450683e-08, 2.71801778e-08, 8.39331153e-08, 3.91423496e-08,\n",
       "        1.35482399e-07, 6.55329732e-08, 2.71801778e-08, 4.14027252e-07,\n",
       "        6.52648620e-08, 1.20268751e-07, 2.41360101e-07, 3.96233037e-07,\n",
       "        1.17596917e-07, 1.06875952e-07, 2.71801778e-08, 1.15782314e-07,\n",
       "        7.56990569e-08, 3.59344245e-08, 2.71801778e-08, 1.08385717e-07,\n",
       "        5.40351868e-08, 4.10721058e-08, 4.39995384e-08, 6.01916707e-08,\n",
       "        2.10753485e-07, 1.03444208e-07, 2.71801778e-08, 6.21640398e-08,\n",
       "        5.21916469e-08, 1.72351863e-07, 2.71801778e-08, 1.10751303e-07,\n",
       "        1.14126340e-07, 1.12955621e-07, 3.60681464e-07, 6.94282425e-08,\n",
       "        8.51463921e-08, 9.05879706e-08, 3.18925485e-08, 5.11349891e-07,\n",
       "        2.71801778e-08, 2.71801778e-08, 4.56274255e-08, 5.19433128e-08,\n",
       "        2.71801778e-08, 8.64536671e-08, 1.38777918e-07, 1.95266255e-07,\n",
       "        2.71801778e-08, 6.51770390e-08, 1.24202250e-07, 1.31967466e-07,\n",
       "        9.77332187e-08, 4.39848536e-07, 1.18546224e-07, 1.35447354e-07,\n",
       "        3.97751001e-08, 3.44811275e-07, 2.71801778e-08, 6.61937006e-07,\n",
       "        1.40785659e-07, 1.49354239e-07, 6.24712334e-08, 5.27537851e-08,\n",
       "        5.07847351e-08, 2.71801778e-08, 2.71801778e-08, 3.28997065e-08,\n",
       "        2.42913355e-07, 3.50684399e-07, 1.52006949e-07, 2.94655806e-08,\n",
       "        1.39351633e-07, 5.41724621e-07, 1.03508859e-07, 5.87418131e-08,\n",
       "        9.42482342e-08, 2.71801778e-08, 5.57228168e-07, 5.87789427e-08,\n",
       "        1.22586377e-07, 2.71801778e-08, 5.73245261e-07, 2.71801778e-08,\n",
       "        1.42212049e-07, 3.84353987e-07, 2.71801778e-08, 4.51239411e-07,\n",
       "        5.57091415e-07, 4.44460692e-07, 5.11045214e-08, 5.57335237e-08,\n",
       "        2.53127510e-07, 2.71801778e-08, 9.33295380e-08, 2.71801778e-08,\n",
       "        2.20482118e-07, 1.69907688e-07, 5.23178112e-08, 1.77221133e-07,\n",
       "        2.49773702e-07, 6.53451029e-08, 1.77695203e-07, 1.12210740e-07,\n",
       "        5.08033115e-07, 9.38338508e-07, 1.61905168e-06, 1.40901535e-07,\n",
       "        2.71801778e-08, 5.64426418e-08, 1.35840225e-07, 3.38067941e-08,\n",
       "        7.64188705e-08, 1.57713174e-07, 9.01931270e-07, 1.86709774e-07,\n",
       "        2.71801778e-08, 2.71801778e-08, 2.50121523e-07, 4.27565632e-07,\n",
       "        4.55726758e-07, 2.71801778e-08, 2.71801778e-08, 2.71801778e-08,\n",
       "        2.71801778e-08, 4.02670259e-08, 4.20892896e-08, 7.16126527e-08,\n",
       "        8.96567237e-08, 1.21338833e-07, 6.02477439e-08, 5.05592469e-08,\n",
       "        2.71801778e-08, 2.09929969e-07, 1.32089752e-06, 4.19726971e-07,\n",
       "        1.66359191e-07, 1.87041228e-07, 2.71801778e-08, 1.16055315e-07,\n",
       "        1.94022254e-07, 2.71801778e-08, 1.07399229e-07, 3.74924679e-08,\n",
       "        7.97815980e-08, 1.10414174e-07, 2.71801778e-08, 5.66859544e-08,\n",
       "        1.73248631e-07, 2.71801778e-08, 2.85606245e-08, 9.23693008e-08,\n",
       "        9.16427532e-08, 4.70749988e-08, 2.71801778e-08, 2.71801778e-08,\n",
       "        1.96424347e-07, 5.38898188e-08, 2.87693558e-07, 2.71801778e-08,\n",
       "        4.07516709e-08, 3.64353880e-08, 5.73372581e-08, 1.13429039e-07,\n",
       "        2.71801778e-08, 4.70399042e-08, 2.71801778e-08, 2.71801778e-08,\n",
       "        2.71801778e-08, 5.09854368e-07, 6.30666931e-08, 1.10957988e-07,\n",
       "        2.71801778e-08, 2.71801778e-08, 5.64276212e-08, 1.53149927e-07,\n",
       "        7.22569725e-07, 9.37090276e-08, 1.64693429e-07, 1.75356146e-07,\n",
       "        9.96929219e-08, 1.25065769e-07, 1.66475881e-07, 4.85111717e-07,\n",
       "        2.71801778e-08, 2.71801778e-08, 2.71801778e-08, 4.44870208e-08,\n",
       "        2.71801778e-08, 2.71801778e-08, 1.01681635e-07, 1.12620141e-07,\n",
       "        3.92973709e-08, 3.96340923e-08, 2.71801778e-08, 2.58996476e-07,\n",
       "        3.56162243e-08, 2.71801778e-08, 1.62277416e-07, 2.71801778e-08,\n",
       "        1.28727017e-06, 9.80221871e-08, 8.64657119e-08, 3.39794936e-08,\n",
       "        1.60892823e-07, 5.50726941e-08, 2.76659778e-07, 5.35032021e-07,\n",
       "        5.49477486e-07, 4.25061640e-07, 2.71801778e-08, 4.36713362e-08,\n",
       "        9.54638600e-08, 1.16706396e-07, 2.33314856e-07, 3.32084667e-08,\n",
       "        2.71801778e-08, 2.71801778e-08, 4.10480798e-08, 9.52690285e-08,\n",
       "        2.71801778e-08, 2.71801778e-08, 2.71801778e-08, 2.71801778e-08,\n",
       "        1.12251380e-07, 5.48955634e-08, 1.56365851e-07, 2.71801778e-08,\n",
       "        2.71801778e-08, 2.41243790e-07, 1.43822098e-07, 2.71801778e-08,\n",
       "        3.36459925e-08, 2.71801778e-08, 2.71801778e-08, 2.71801778e-08,\n",
       "        2.71801778e-08, 3.15870593e-08, 1.83891806e-07, 2.71801778e-08,\n",
       "        2.84665937e-08, 2.71801778e-08, 2.71801778e-08, 7.78147646e-08,\n",
       "        1.83412590e-07, 1.14079147e-06, 2.71801778e-08, 2.71801778e-08,\n",
       "        4.27700782e-08, 2.71801778e-08, 9.76429009e-08, 2.71801778e-08,\n",
       "        4.91049501e-08, 4.30355945e-08, 1.91589751e-07, 2.71801778e-08,\n",
       "        8.50313556e-08, 2.71801778e-08, 7.50391760e-08, 2.71801778e-08,\n",
       "        1.46515700e-07, 3.51549590e-08, 4.23959996e-07, 3.51104803e-08,\n",
       "        3.79373803e-07, 5.33166331e-08, 2.30775741e-07, 7.53431502e-08,\n",
       "        2.71801778e-08, 3.67286969e-08, 5.23909373e-08, 3.67286969e-08,\n",
       "        6.12713493e-08, 2.71801778e-08, 1.06960661e-07, 3.16138870e-07,\n",
       "        5.30982167e-08, 7.97195819e-08, 5.34963097e-08, 2.71801778e-08,\n",
       "        8.22802201e-08, 9.14284368e-08, 2.71801778e-08, 1.68749667e-07,\n",
       "        3.36028441e-08, 2.71801778e-08, 5.11636032e-07, 1.32763200e-07,\n",
       "        3.04595489e-08, 2.71801778e-08, 3.68243559e-07, 2.71801778e-08,\n",
       "        2.71801778e-08, 3.27194355e-07, 2.71801778e-08, 6.05094367e-08,\n",
       "        4.51134263e-08, 7.70237481e-08, 2.71801778e-08, 2.71801778e-08,\n",
       "        1.25843883e-07, 2.71801778e-08, 6.19030306e-08, 3.52920529e-07,\n",
       "        1.24611344e-07, 6.15551133e-08, 4.19365922e-08, 1.30780554e-07,\n",
       "        2.27073947e-07, 8.24669208e-08, 2.71801778e-08, 1.24157132e-07,\n",
       "        5.66935650e-07, 2.71801778e-08, 3.14868780e-08, 2.71801778e-08,\n",
       "        3.23155470e-07, 2.71801778e-08, 2.71801778e-08, 7.49231860e-08,\n",
       "        4.10807917e-08, 2.06534153e-07, 6.47509111e-08, 9.34985376e-08,\n",
       "        2.71801778e-08, 9.09166966e-08, 2.71801778e-08, 2.71801778e-08,\n",
       "        2.95355488e-07, 2.66498590e-07, 8.17480691e-08, 2.71801778e-08,\n",
       "        2.71801778e-08, 1.03179892e-07, 2.71801778e-08, 6.52111051e-08,\n",
       "        2.71801778e-08, 6.08842127e-08, 2.71801778e-08, 4.32492652e-08,\n",
       "        2.71801778e-08, 2.71801778e-08, 1.09004216e-07, 1.06539753e-07,\n",
       "        2.27867289e-07, 2.71801778e-08, 1.36570492e-07, 2.71801778e-08,\n",
       "        8.19580707e-08, 2.14921408e-07, 2.71801778e-08, 4.65453115e-08,\n",
       "        1.89571769e-07, 2.71801778e-08, 6.32504541e-08, 1.01206573e-07,\n",
       "        3.67286969e-08, 2.33307603e-07, 9.91358843e-08, 6.90056426e-08,\n",
       "        2.71801778e-08, 5.45084241e-08, 2.71801778e-08, 2.71801778e-08,\n",
       "        2.71801778e-08, 2.71801778e-08, 5.37073053e-08, 2.56684159e-07,\n",
       "        6.67119374e-08, 5.09181482e-07, 2.71801778e-08, 2.71801778e-08,\n",
       "        4.44571300e-08, 7.66792627e-08, 2.71801778e-08, 5.19831383e-08,\n",
       "        1.27734275e-07, 1.26782029e-07, 2.71801778e-08, 6.87478621e-08,\n",
       "        2.71801778e-08, 2.71801778e-08, 6.06645347e-08, 2.71801778e-08,\n",
       "        1.96419908e-07, 4.00317095e-07, 2.71801778e-08, 2.71801778e-08,\n",
       "        1.05727888e-07, 4.53895652e-08, 2.71801778e-08, 3.24949582e-08,\n",
       "        3.91423496e-08, 1.23012086e-07, 2.71801778e-08, 2.71801778e-08,\n",
       "        3.70606892e-08, 2.71801778e-08, 2.79051579e-08, 2.71801778e-08,\n",
       "        2.71801778e-08, 2.85606245e-08, 3.51549590e-08, 5.17632105e-08,\n",
       "        2.71801778e-08, 2.71801778e-08, 2.71801778e-08, 3.01903116e-08,\n",
       "        1.06642743e-07, 5.98138721e-08, 2.71801778e-08, 2.71801778e-08,\n",
       "        8.89870613e-08, 2.71801778e-08, 2.71801778e-08, 2.71801778e-08,\n",
       "        8.66090471e-08, 2.71801778e-08, 5.66089844e-08, 2.71801778e-08,\n",
       "        9.47539875e-08, 2.71801778e-08, 2.71801778e-08, 2.71801778e-08,\n",
       "        1.17183971e-07, 1.15744069e-07, 2.71801778e-08, 2.71801778e-08,\n",
       "        2.36851673e-07, 3.96034820e-08, 2.71801778e-08, 2.77782864e-08,\n",
       "        2.71801778e-08, 1.81148444e-07, 3.18152274e-08, 3.05553638e-07,\n",
       "        3.69966711e-08, 2.71801778e-08, 4.69637696e-08, 2.71801778e-08,\n",
       "        7.21879684e-08, 2.71801778e-08, 1.95624525e-07, 3.94031373e-07,\n",
       "        2.71801778e-08, 1.98481630e-07, 3.31775169e-08, 2.71801778e-08,\n",
       "        2.79051579e-08, 7.37215882e-08, 2.71801778e-08, 4.78431494e-08,\n",
       "        2.71801778e-08, 2.71801778e-08, 2.71801778e-08, 2.71801778e-08,\n",
       "        2.71801778e-08, 2.71801778e-08, 2.71801778e-08, 2.71801778e-08,\n",
       "        9.55276105e-08, 6.79467171e-08, 7.38859917e-08, 2.71801778e-08,\n",
       "        2.71801778e-08, 8.85756247e-08, 8.54651955e-08, 2.71801778e-08,\n",
       "        2.17951396e-07, 2.71801778e-08, 9.43605158e-08, 9.80475774e-08,\n",
       "        2.71801778e-08, 4.02352455e-08, 7.11359017e-08, 2.71801778e-08,\n",
       "        5.69209767e-08, 2.26906119e-07, 4.59823525e-08, 3.70808407e-08,\n",
       "        1.43695190e-07, 1.01576618e-07, 3.81407355e-08, 3.04009587e-08,\n",
       "        2.71801778e-08, 7.68927587e-08, 2.71801778e-08, 7.95597733e-08,\n",
       "        4.80671108e-08, 3.91423496e-08, 7.39774660e-08, 2.71801778e-08,\n",
       "        2.71801778e-08, 1.35166563e-07, 2.71801778e-08, 5.95405679e-08,\n",
       "        5.68553984e-08, 9.98244905e-08, 3.59545143e-08, 6.11212860e-08,\n",
       "        7.60241879e-08, 2.71801778e-08, 3.19650465e-08, 1.10181140e-07,\n",
       "        1.27286739e-07, 2.84665937e-08, 3.05074508e-08, 2.71801778e-08,\n",
       "        2.71801778e-08, 6.38603756e-08, 2.71801778e-08, 2.71801778e-08,\n",
       "        1.49882245e-07, 2.71801778e-08, 2.71801778e-08, 7.05459424e-08,\n",
       "        3.93647477e-07, 2.06313272e-07, 4.40661665e-08, 5.70031320e-08,\n",
       "        4.22990833e-08, 2.71801778e-08, 2.71801778e-08, 2.71801778e-08,\n",
       "        2.71801778e-08, 8.78304114e-08, 2.71801778e-08, 2.71801778e-08,\n",
       "        1.30669303e-07, 6.83236448e-08, 1.21223230e-07, 3.66413564e-07,\n",
       "        2.71801778e-08, 9.43438255e-08, 2.71801778e-08, 1.34578931e-07,\n",
       "        2.71801778e-08, 2.71801778e-08, 2.71801778e-08, 2.71801778e-08,\n",
       "        7.56620094e-08, 2.71801778e-08, 2.71801778e-08, 2.71801778e-08,\n",
       "        2.71801778e-08, 3.69268437e-08, 7.33236045e-08, 2.71801778e-08,\n",
       "        4.05227963e-08, 3.90359837e-08, 2.71801778e-08, 6.13116240e-08,\n",
       "        5.19157841e-08, 2.71801778e-08, 2.71801778e-08, 4.83312068e-08,\n",
       "        6.01714807e-08, 2.71801778e-08, 2.71801778e-08, 2.71801778e-08,\n",
       "        2.10012755e-07, 7.48703093e-08, 3.69026403e-08, 5.58087007e-08,\n",
       "        2.71801778e-08, 2.71801778e-08, 1.32809212e-07, 2.71801778e-08,\n",
       "        2.71801778e-08, 7.65420949e-08, 2.71801778e-08, 2.71801778e-08,\n",
       "        3.98715232e-08, 2.71801778e-08, 2.71801778e-08, 2.71801778e-08,\n",
       "        6.87056743e-08, 5.15771768e-08, 2.97454920e-08, 4.53009255e-08,\n",
       "        2.71801778e-08, 2.71801778e-08, 3.06343224e-08, 2.71801778e-08,\n",
       "        3.87826876e-08, 2.03279885e-07, 2.71801778e-08, 6.59973586e-08,\n",
       "        2.71801778e-08, 5.54343126e-08, 2.71801778e-08, 2.71801778e-08,\n",
       "        3.34501376e-08, 1.14974129e-07, 2.71801778e-08, 2.71801778e-08,\n",
       "        2.71801778e-08, 7.03829660e-08, 1.84629755e-07, 2.71801778e-08,\n",
       "        2.71801778e-08, 3.10929474e-08, 2.71801778e-08, 2.71801778e-08,\n",
       "        2.84665937e-08, 3.44747929e-07, 3.12244926e-07, 2.71801778e-08,\n",
       "        7.72065792e-08, 2.71801778e-08, 1.05200434e-07, 2.71801778e-08,\n",
       "        2.71801778e-08, 1.51459985e-07, 2.71801778e-08, 2.71801778e-08,\n",
       "        2.71801778e-08, 1.40429939e-06, 3.91423496e-08, 5.36703406e-08,\n",
       "        2.71801778e-08, 5.22906390e-08, 1.18338724e-07, 9.96837759e-08,\n",
       "        1.16830931e-07, 2.71801778e-08, 5.52773109e-08]])"
      ]
     },
     "execution_count": 18,
     "metadata": {},
     "output_type": "execute_result"
    }
   ],
   "source": [
    "RandomSurfer(G, 0.2, len(G), T=100)"
   ]
  },
  {
   "cell_type": "markdown",
   "id": "a938aa68-5b94-4398-8d32-3aa947bf5b2e",
   "metadata": {},
   "source": [
    "### Closeness"
   ]
  },
  {
   "cell_type": "markdown",
   "id": "61595363-bf09-4d18-a221-929ec86ce9e9",
   "metadata": {},
   "source": [
    "Computed as\n",
    "\n",
    "$Closeness(v)= \\frac{\\sum_{u,w\\epsilon V \\setminus\\{v\\}} \\frac{g_{u,v}^v}{g_{u,v}}}{{n-1 \\choose 2}}$\n",
    "\n",
    "where:\n",
    "* $g_{u,v}^v = $ # shortest paths between the 2 nodes (u,w) passing through v,\n",
    "* $g_{u,v} = $ # shortest paths between the 2 nodes (u,w),\n",
    "* $n = $ # nodes in the graph."
   ]
  },
  {
   "cell_type": "code",
   "execution_count": 19,
   "id": "3683136d-4f82-45b2-909e-f3f98c2ab919",
   "metadata": {},
   "outputs": [],
   "source": [
    "def shortest_path(G,source,target):\n",
    "    dist = {}\n",
    "    prev = {}\n",
    "    nodes_list=[]\n",
    "    #Initializatio\n",
    "    for node in nx.nodes(G):\n",
    "        dist.update({node : math.inf}) # A dict with the nodes and the distances (We initialize all the distances as + infinite)\n",
    "        prev.update({node : None}) # A dict with the previous node of each node \n",
    "        nodes_list.append(node) # A list with the nodes that have not been visited\n",
    "    dist[source] = 0 # We initialize the distance of the source node as 0\n",
    "    \n",
    "    while len(nodes_list) != 0: # We will do the next steps until we'll have visited all the nodes are we'll have found the target node\n",
    "       \n",
    "        # the algorithm starts visiting the node with the lower distance\n",
    "        dist_list =[] \n",
    "        for node in nodes_list:\n",
    "            dist_list.append(dist[node])\n",
    "        u = nodes_list[dist_list.index(min(dist_list))]\n",
    "        nodes_list.remove(u) # removing the node from the list of the nodes that have not been visited\n",
    "        \n",
    "        #If the visited node il the target stop the visits\n",
    "        if u == target:\n",
    "            break\n",
    "            \n",
    "        #Otherwise we look at the neighbors\n",
    "        for neighbor in G.neighbors(u):\n",
    "            #computing the new distances for all neighbors\n",
    "            new_dist = dist[u] + G[u][neighbor][0]['weight']\n",
    "            #If the new distance is lower than the previous one we update di distances dict\n",
    "            if dist[neighbor] > new_dist:\n",
    "                dist[neighbor] = new_dist\n",
    "                prev[neighbor] = u\n",
    "                \n",
    "    #If the target has not a previous node it means that there is nott a path (the graph is not connected) so the algorithm\n",
    "    #returns 'not possible'\n",
    "    if prev[target] == None:\n",
    "        return ('Not possible', [-1])\n",
    "    \n",
    "    #creating a list with the path from the source node to the target\n",
    "    path_node = target\n",
    "    path = [path_node]\n",
    "    \n",
    "    while path_node != source:\n",
    "    \n",
    "        path.insert(0,prev[path_node])\n",
    "        path_node = prev[path_node]\n",
    "    \n",
    "    #The algorithm returns the distance of the target and the path\n",
    "    return dist[target], path\n"
   ]
  },
  {
   "cell_type": "code",
   "execution_count": 20,
   "id": "05584a09-e1e1-47f4-959c-c264f0e9f51e",
   "metadata": {},
   "outputs": [],
   "source": [
    "def Closeness(G,u,n):\n",
    "    somma=0\n",
    "    for v in tqdm(G.nodes):\n",
    "        dist,path=shortest_path(G,u,v)\n",
    "        if (dist!='Not possible') and (dist!=0):\n",
    "            somma+=int(dist)\n",
    "    #print(somma)\n",
    "    if somma>0: return ((n-1)/somma)\n",
    "    else: raise('Error: sum=0')"
   ]
  },
  {
   "cell_type": "code",
   "execution_count": 21,
   "id": "6ab2fafc-1d3d-485b-8ebe-a140845084c0",
   "metadata": {},
   "outputs": [
    {
     "name": "stderr",
     "output_type": "stream",
     "text": [
      "100%|███████████████████████████████████| 775/775 [00:14<00:00, 54.38it/s]\n"
     ]
    },
    {
     "data": {
      "text/plain": [
       "0.5108910891089109"
      ]
     },
     "execution_count": 21,
     "metadata": {},
     "output_type": "execute_result"
    }
   ],
   "source": [
    "Closeness(G,13,len(G))"
   ]
  },
  {
   "cell_type": "markdown",
   "id": "61c8cfc1-65d6-432b-9e28-8ce8e9a6eb21",
   "metadata": {},
   "source": [
    "### Betweenness"
   ]
  },
  {
   "cell_type": "markdown",
   "id": "dd1cbcc0-9b50-4d84-bfe6-57aa18d85b0a",
   "metadata": {},
   "source": [
    "Computed as\n",
    "\n",
    "$Betweenness(v)= \\frac{n-1}{\\sum_{u\\epsilon V \\setminus\\{v\\}}d(v,u)}$\n",
    "where $d(v,u)=$ shortest path distance between (u,v)."
   ]
  },
  {
   "cell_type": "code",
   "execution_count": 22,
   "id": "501a4a77-1f17-43b0-bfa5-ada1667bb880",
   "metadata": {},
   "outputs": [],
   "source": [
    "def Betweenness(G,q,n):\n",
    "    print(\"You chose to use betweenness, we suggest you to go out and take a hangover, you'll be fine before this is over\")\n",
    "    somma_q = 0\n",
    "    somma = 0\n",
    "    for u in tqdm(G.nodes):\n",
    "        for v in (G.nodes):\n",
    "            dist,path = shortest_path(G,u,v)\n",
    "            if (dist!='Not possible') and (dist!=0):\n",
    "                somma+=int(dist)\n",
    "                if q in path:\n",
    "                    somma_q+=int(dist)\n",
    "    \n",
    "    num = 2*somma_q/somma\n",
    "    den = n*n - 3*n + 2\n",
    "    if den>0: return num/den\n",
    "    else: raise('Error: denominator=0')"
   ]
  },
  {
   "cell_type": "code",
   "execution_count": 23,
   "id": "e4f80f46-08ae-4b82-a130-5ce4914fce30",
   "metadata": {},
   "outputs": [
    {
     "name": "stdout",
     "output_type": "stream",
     "text": [
      "You chose to use betweenness, we suggest you to go out and take a hangover, you'll be fine before this is over\n"
     ]
    },
    {
     "name": "stderr",
     "output_type": "stream",
     "text": [
      "100%|█████████████████████████████████| 775/775 [3:22:07<00:00, 15.65s/it]\n"
     ]
    },
    {
     "data": {
      "text/plain": [
       "5.5679844400311824e-08"
      ]
     },
     "execution_count": 23,
     "metadata": {},
     "output_type": "execute_result"
    }
   ],
   "source": [
    "Betweenness(G,13,len(G))"
   ]
  },
  {
   "cell_type": "code",
   "execution_count": 12,
   "id": "3a681c63-17b2-45bc-949d-b8433d072cc7",
   "metadata": {},
   "outputs": [],
   "source": [
    "def functionality_2(G, u, metric, time_interval=100, alpha=0.2):  #functionality 2: return the queried metric for the given node\n",
    "    values = functionality_1(G)\n",
    "    n = values[1]\n",
    "    \n",
    "    if metric == 'Betweeness':\n",
    "        return Betweenness(G,u,n)\n",
    "    \n",
    "    elif metric == 'PageRank':\n",
    "        return RandomSurfer(G, alpha, n, time_interval)\n",
    "    \n",
    "    elif metric == 'Closeness':\n",
    "        return Closeness(G,u,n)\n",
    "    \n",
    "    elif metric == 'Degree':\n",
    "        return (G.degree(int(u))/(n-1))\n",
    "    \n",
    "    else:\n",
    "        raise('Metric not allowed')"
   ]
  },
  {
   "cell_type": "markdown",
   "id": "d42ee6f0-1b9f-4075-8aaf-e6a6341d92c5",
   "metadata": {},
   "source": [
    "### Functionality 3"
   ]
  },
  {
   "cell_type": "code",
   "execution_count": 24,
   "id": "22f99afb-6023-4c67-a473-f02dee2e7591",
   "metadata": {
    "tags": []
   },
   "outputs": [],
   "source": [
    "def functionality_3(G,users,source,target):\n",
    "    s_p = shortest_path(G,source,users[0])\n",
    "    dist = s_p[0]\n",
    "    path = s_p[1]\n",
    "    if dist == 'Not possible':\n",
    "        return 'Not possible'\n",
    "    \n",
    "    for i in range(len(users)-1):\n",
    "        s_p = shortest_path(G,users[i],users[i+1])\n",
    "        if s_p[0] == 'Not possible':\n",
    "            return 'Not possible'\n",
    "        dist += s_p[0]\n",
    "        path.extend(s_p[1][1:])\n",
    "        \n",
    "    s_p = shortest_path(G,users[-1],target)\n",
    "    if s_p[0] == 'Not possible':\n",
    "            return 'Not possible'\n",
    "        \n",
    "    dist += s_p[0]\n",
    "    path.extend(s_p[1][1:]) \n",
    "    \n",
    "   \n",
    "    return dist,path"
   ]
  },
  {
   "cell_type": "code",
   "execution_count": 25,
   "id": "9c9a638a-e868-4275-a534-483d4cb594af",
   "metadata": {},
   "outputs": [
    {
     "data": {
      "text/plain": [
       "'Not possible'"
      ]
     },
     "execution_count": 25,
     "metadata": {},
     "output_type": "execute_result"
    }
   ],
   "source": [
    "functionality_3(G,[2,5],1,8)"
   ]
  },
  {
   "cell_type": "code",
   "execution_count": null,
   "id": "f11bee98-91be-4c4b-b233-c338e8513666",
   "metadata": {},
   "outputs": [],
   "source": []
  }
 ],
 "metadata": {
  "kernelspec": {
   "display_name": "Python 3 (ipykernel)",
   "language": "python",
   "name": "python3"
  },
  "language_info": {
   "codemirror_mode": {
    "name": "ipython",
    "version": 3
   },
   "file_extension": ".py",
   "mimetype": "text/x-python",
   "name": "python",
   "nbconvert_exporter": "python",
   "pygments_lexer": "ipython3",
   "version": "3.9.7"
  }
 },
 "nbformat": 4,
 "nbformat_minor": 5
}
