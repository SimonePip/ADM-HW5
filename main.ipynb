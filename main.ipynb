{
 "cells": [
  {
   "cell_type": "code",
   "execution_count": 1,
   "id": "0afe50cc-66a6-4b3d-b086-9bee6d01a7d1",
   "metadata": {},
   "outputs": [],
   "source": [
    "import pandas as pd\n",
    "from tqdm import tqdm\n",
    "import networkx as nx"
   ]
  },
  {
   "cell_type": "code",
   "execution_count": 2,
   "id": "fab4ae26-b912-4c77-8e4e-5f9f0f55c194",
   "metadata": {},
   "outputs": [],
   "source": [
    "a_q=pd.read_csv('a2q',sep=' ', names=['u','v','t'])  #answers to questions\n",
    "c_a=pd.read_csv('c2a',sep=' ', names=['u','v','t'])  #comments to answers\n",
    "c_q=pd.read_csv('c2q',sep=' ', names=['u','v','t'])  #comments to questions"
   ]
  },
  {
   "cell_type": "code",
   "execution_count": 3,
   "id": "245c0a7c-7be6-4c4f-b6c6-ad39e94f271e",
   "metadata": {},
   "outputs": [
    {
     "name": "stdout",
     "output_type": "stream",
     "text": [
      "(17823525, 3) (25405374, 3) (20268151, 3)\n"
     ]
    }
   ],
   "source": [
    "print(a_q.shape,c_a.shape,c_q.shape)"
   ]
  },
  {
   "cell_type": "code",
   "execution_count": 4,
   "id": "ce931860-3e69-45cc-8212-1f14cc0f9ef9",
   "metadata": {},
   "outputs": [],
   "source": [
    "#change time to hours\n",
    "a_q['t']=a_q['t'].div(3600)\n",
    "c_a['t']=c_a['t'].div(3600)\n",
    "c_q['t']=c_q['t'].div(3600)\n",
    "\n",
    "#add type column to dataframes\n",
    "a_q['type']='a_q'\n",
    "c_a['type']='c_a'\n",
    "c_q['type']='c_q'"
   ]
  },
  {
   "cell_type": "code",
   "execution_count": 5,
   "id": "3340f0f4-ba30-497b-88c5-cde6b34b290c",
   "metadata": {},
   "outputs": [],
   "source": [
    "def time_maxmin(data,min,max): #Retrieve maximum and minimum timestamps\n",
    "    m=data['t'].min()\n",
    "    M=data['t'].max()\n",
    "    if m<min:\n",
    "        min=m\n",
    "    if M>max:\n",
    "        max=M\n",
    "    return min,max"
   ]
  },
  {
   "cell_type": "code",
   "execution_count": 6,
   "id": "93ed4723-cfda-4007-b002-2021c22b521e",
   "metadata": {
    "tags": []
   },
   "outputs": [],
   "source": [
    "def create_graph(data1,data2,data3,time_window,self_loops=0):\n",
    "    #remove rows with u=v\n",
    "    if self_loops==0: \n",
    "        data1 = data1[data1['u'] != data1['v']]\n",
    "        data2 = data2[data2['u'] != data2['v']]\n",
    "        data3 = data3[data3['u'] != data3['v']]\n",
    "    \n",
    "    #remove rows not having time in given time interval\n",
    "    data1 = data1[data1['t'].between(time_window[0], time_window[1])]\n",
    "    data2 = data2[data2['t'].between(time_window[0], time_window[1])]\n",
    "    data3 = data3[data3['t'].between(time_window[0], time_window[1])]\n",
    "\n",
    "    \n",
    "    A= nx.MultiDiGraph()\n",
    "    B = nx.MultiDiGraph()\n",
    "    C = nx.MultiDiGraph()\n",
    "    A=nx.from_pandas_edgelist(data1, 'u', 'v', ['t', 'type'])\n",
    "    B=nx.from_pandas_edgelist(data2, 'u', 'v', ['t', 'type'])\n",
    "    C=nx.from_pandas_edgelist(data3, 'u', 'v', ['t', 'type'])\n",
    "    G = nx.compose(A,B)\n",
    "    G = nx.compose(G,C)\n",
    "    return G"
   ]
  },
  {
   "cell_type": "code",
   "execution_count": 7,
   "id": "1e398d54-906b-4a26-ae3b-e921a36d17e5",
   "metadata": {},
   "outputs": [
    {
     "name": "stdout",
     "output_type": "stream",
     "text": [
      "338213.2991666667 404798.1744444444\n"
     ]
    }
   ],
   "source": [
    "m=10**(10)\n",
    "M=0\n",
    "m, M = time_maxmin(a_q, m, M)\n",
    "m, M = time_maxmin(c_a, m, M)\n",
    "m, M = time_maxmin(c_q, m, M)\n",
    "print(m, M)"
   ]
  },
  {
   "cell_type": "code",
   "execution_count": 9,
   "id": "94854c30-6533-4886-b75e-4e75453c315e",
   "metadata": {},
   "outputs": [],
   "source": [
    "#obviously choose a time window that's inside (m,M)\n",
    "time_window = (M/2,M/2+1000)\n",
    "G=create_graph(a_q,c_a,c_q,time_window)"
   ]
  },
  {
   "cell_type": "code",
   "execution_count": null,
   "id": "7de57b6e-3d3c-4004-8eb7-f5b652aed930",
   "metadata": {},
   "outputs": [],
   "source": []
  }
 ],
 "metadata": {
  "kernelspec": {
   "display_name": "Python 3 (ipykernel)",
   "language": "python",
   "name": "python3"
  },
  "language_info": {
   "codemirror_mode": {
    "name": "ipython",
    "version": 3
   },
   "file_extension": ".py",
   "mimetype": "text/x-python",
   "name": "python",
   "nbconvert_exporter": "python",
   "pygments_lexer": "ipython3",
   "version": "3.9.7"
  }
 },
 "nbformat": 4,
 "nbformat_minor": 5
}
