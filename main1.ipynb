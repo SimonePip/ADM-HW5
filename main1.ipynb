{
 "cells": [
  {
   "cell_type": "markdown",
   "id": "1408143e-5fa4-4c09-beb8-bb3843333407",
   "metadata": {},
   "source": [
    "# Part 1"
   ]
  },
  {
   "cell_type": "code",
   "execution_count": 1,
   "id": "0afe50cc-66a6-4b3d-b086-9bee6d01a7d1",
   "metadata": {},
   "outputs": [],
   "source": [
    "import pandas as pd\n",
    "import numpy as np\n",
    "from tqdm import tqdm\n",
    "import networkx as nx\n",
    "from collections import Counter\n",
    "import random\n",
    "import time"
   ]
  },
  {
   "cell_type": "code",
   "execution_count": 2,
   "id": "fab4ae26-b912-4c77-8e4e-5f9f0f55c194",
   "metadata": {
    "tags": []
   },
   "outputs": [],
   "source": [
    "a_q=pd.read_csv('a2q',sep=' ', names=['u','v','t'])  #answers to questions\n",
    "c_a=pd.read_csv('c2a',sep=' ', names=['u','v','t'])  #comments to answers\n",
    "c_q=pd.read_csv('c2q',sep=' ', names=['u','v','t'])  #comments to questions"
   ]
  },
  {
   "cell_type": "code",
   "execution_count": 3,
   "id": "245c0a7c-7be6-4c4f-b6c6-ad39e94f271e",
   "metadata": {},
   "outputs": [
    {
     "name": "stdout",
     "output_type": "stream",
     "text": [
      "(17823525, 3) (25405374, 3) (20268151, 3)\n"
     ]
    }
   ],
   "source": [
    "print(a_q.shape,c_a.shape,c_q.shape)"
   ]
  },
  {
   "cell_type": "code",
   "execution_count": 4,
   "id": "ce931860-3e69-45cc-8212-1f14cc0f9ef9",
   "metadata": {},
   "outputs": [],
   "source": [
    "#change time to hours\n",
    "a_q['t'] = a_q['t'].div(3600)\n",
    "c_a['t'] = c_a['t'].div(3600)\n",
    "c_q['t'] = c_q['t'].div(3600)\n",
    "\n",
    "#add type column to dataframes\n",
    "a_q['type'] = 'a_q'\n",
    "c_a['type'] = 'c_a'\n",
    "c_q['type'] = 'c_q'\n",
    "\n",
    "#add weights column\n",
    "a_q['weight'] = 1\n",
    "c_a['weight'] = 1\n",
    "c_q['weight'] = 1\n",
    "\n",
    "#sort by time\n",
    "a_q=a_q.sort_values('t')\n",
    "c_a=c_a.sort_values('t')\n",
    "c_q=c_q.sort_values('t')"
   ]
  },
  {
   "cell_type": "code",
   "execution_count": 5,
   "id": "3340f0f4-ba30-497b-88c5-cde6b34b290c",
   "metadata": {},
   "outputs": [],
   "source": [
    "def time_maxmin(data,min,max): #Retrieve maximum and minimum timestamps\n",
    "    m = data['t'].min()\n",
    "    M = data['t'].max()\n",
    "    if m < min:\n",
    "        min = m \n",
    "    if M > max:\n",
    "        max = M\n",
    "    return min, max"
   ]
  },
  {
   "cell_type": "code",
   "execution_count": 6,
   "id": "93ed4723-cfda-4007-b002-2021c22b521e",
   "metadata": {
    "tags": []
   },
   "outputs": [],
   "source": [
    "def create_graph(data1,time_window,self_loops=0):\n",
    "    #remove rows with u=v\n",
    "    if self_loops == 0: \n",
    "        data1 = data1[data1['u'] != data1['v']]\n",
    "    \n",
    "    #remove rows not having time 't' in given time interval\n",
    "    data1 = data1[data1['t'].between(time_window[0], time_window[1])]\n",
    "    \n",
    "    #assign weight --> 1 for every edge ,+1 every time u,v (interact)\n",
    "    D = data1[['u','v']]\n",
    "    D = D[D.duplicated(keep=False)]\n",
    "    D = D.groupby(list(D)).apply(lambda x: tuple(x.index)).tolist()\n",
    "    for d in D:\n",
    "        ind = list(d)\n",
    "        val = len(ind)\n",
    "        drop = ind[:-1]\n",
    "        data1.at[ind[-1], 'weight'] = val\n",
    "        data1 = data1.drop(index = drop)\n",
    "    \n",
    "    G = nx.from_pandas_edgelist(data1, 'u', 'v', ['t', 'type', 'weight'], create_using = nx.MultiDiGraph())\n",
    "    return G"
   ]
  },
  {
   "cell_type": "code",
   "execution_count": 7,
   "id": "1e398d54-906b-4a26-ae3b-e921a36d17e5",
   "metadata": {},
   "outputs": [
    {
     "name": "stdout",
     "output_type": "stream",
     "text": [
      "338213.2991666667 404798.1744444444\n"
     ]
    }
   ],
   "source": [
    "m = 10**(10)\n",
    "M = 0\n",
    "m, M = time_maxmin(a_q, m, M)\n",
    "m, M = time_maxmin(c_a, m, M)\n",
    "m, M = time_maxmin(c_q, m, M)\n",
    "print(m, M)"
   ]
  },
  {
   "cell_type": "code",
   "execution_count": 8,
   "id": "94854c30-6533-4886-b75e-4e75453c315e",
   "metadata": {},
   "outputs": [],
   "source": [
    "#obviously choose a time window that's inside (m,M)\n",
    "time_window = (m, m+1000)\n",
    "A = create_graph(a_q, time_window)\n",
    "B = create_graph(c_a, time_window)\n",
    "C = create_graph(c_q, time_window)"
   ]
  },
  {
   "cell_type": "code",
   "execution_count": 9,
   "id": "7de57b6e-3d3c-4004-8eb7-f5b652aed930",
   "metadata": {},
   "outputs": [],
   "source": [
    "#merge the graphs\n",
    "G = nx.compose_all([A, B, C])"
   ]
  },
  {
   "cell_type": "markdown",
   "id": "6f983261-b90b-4420-a248-5360fd58742e",
   "metadata": {
    "tags": []
   },
   "source": [
    "# Part 2"
   ]
  },
  {
   "cell_type": "markdown",
   "id": "ca38ce4c-8533-447e-a59d-8f2fe1f54598",
   "metadata": {},
   "source": [
    "## function 1 "
   ]
  },
  {
   "cell_type": "markdown",
   "id": "0f62f930-8512-4d59-8434-6759fb3601c5",
   "metadata": {},
   "source": [
    "It takes in input:\n",
    "\n",
    "    One of the 3 graphs\n",
    "\n",
    "The output should return:\n",
    "\n",
    "    Whether the graph is directed or not\n",
    "    Number of users\n",
    "    Number of answers/comments\n",
    "    Average number of links per user\n",
    "    Density degree of the graph\n",
    "    Whether the graph is sparse or dense\n"
   ]
  },
  {
   "cell_type": "code",
   "execution_count": 10,
   "id": "a992ce6c-477e-42df-82db-286732337f94",
   "metadata": {},
   "outputs": [],
   "source": [
    "def getFeatures(G):\n",
    "    feats=[] \n",
    "    #m = G.number_of_edges()    = n_interactions\n",
    "    #n = sum(G.nodes)           = n_users\n",
    "    \n",
    "    direct = False\n",
    "    n_interactions = 0\n",
    "    check_dir = {}\n",
    "    users=[]\n",
    "    for u,v,attr in (G.edges(data=True)):\n",
    "        if ((u,v) or (v,u)) not in check_dir:\n",
    "            check_dir[(u,v)]=0\n",
    "        else:\n",
    "            #print(u,v)\n",
    "            direct=True\n",
    "        \n",
    "        if u not in users: users.append(u)\n",
    "        if v not in users: users.append(v)\n",
    "\n",
    "        n_interactions += 1\n",
    "    \n",
    "    n_users = len(users)\n",
    "     \n",
    "    avg_links = 0\n",
    "    density = 0\n",
    "    g = None\n",
    "    if n_users>0: \n",
    "        avg_links = n_interactions/n_users\n",
    "        \n",
    "        if direct:\n",
    "            density = 2*n_interactions/(n_users*(n_users-1))\n",
    "        else:\n",
    "            density = n_interactions/(n_users*(n_users-1))\n",
    "                                \n",
    "        if density>0.5:\n",
    "            g='dense'\n",
    "        else:\n",
    "            g='sparse'\n",
    "        \n",
    "    feats.extend((direct, n_users, n_interactions, avg_links, density, g))\n",
    "    \n",
    "    return feats"
   ]
  },
  {
   "cell_type": "code",
   "execution_count": 11,
   "id": "c258650e-2cea-4ab8-9545-7eb73a482ceb",
   "metadata": {},
   "outputs": [
    {
     "data": {
      "text/plain": [
       "[False, 3172, 21871, 6.895018915510719, 0.002174398901138669, 'sparse']"
      ]
     },
     "execution_count": 11,
     "metadata": {},
     "output_type": "execute_result"
    }
   ],
   "source": [
    "getFeatures(A)"
   ]
  },
  {
   "cell_type": "markdown",
   "id": "e76661df-0e8a-4ebe-9a00-c6105823bb85",
   "metadata": {},
   "source": [
    "## function 2 "
   ]
  },
  {
   "cell_type": "markdown",
   "id": "41dc89aa-6ba7-44ad-a2ae-570def036bb6",
   "metadata": {
    "tags": []
   },
   "source": [
    "It takes in input:\n",
    "\n",
    "    A user/node\n",
    "    An interval of time\n",
    "    One of the following metrics: Betweeness 1, PageRank, ClosenessCentrality 3, DegreeCentrality\n",
    "\n",
    "The output should return:\n",
    "\n",
    "    The value of the given metric applied over the complete graph for the given interval of time\n",
    "\n",
    "Give an explanaition regarding the features of the user based on all of the metrics (e.g. if the betweeness metric is high, what does this mean in practice, what if the betweeness is low but it has a high PageRank value, etc.)"
   ]
  },
  {
   "cell_type": "code",
   "execution_count": 7,
   "id": "2ea6b5ed-4af1-40b7-8422-0ea00ce4fa1b",
   "metadata": {},
   "outputs": [],
   "source": [
    "#costruisco funzione per grafi in cui è gia stato preso in considerazione l'intervallo di tempo\n",
    "def dist(G, u, metric, time_interval=100, alpha=0.2):  #recommended time_interval=100\n",
    "    values = getFeatures(G)\n",
    "    n = values[1]\n",
    "    \n",
    "    if metric == 'Betweeness':\n",
    "        return \n",
    "    \n",
    "    elif metric == 'PageRank':\n",
    "        return RandomSurfer(G, alpha, time_interval)\n",
    "    \n",
    "    elif metric == 'Closeness':\n",
    "        return #nx.closeness_centrality(G, u=int(u), wf_improved=False)\n",
    "    \n",
    "    elif metric == 'Degree':\n",
    "        return (G.degree(int(u))/(n-1))\n",
    "    \n",
    "    else:\n",
    "        raise('Metric not allowed')"
   ]
  },
  {
   "cell_type": "markdown",
   "id": "1a2417bd-91f8-4230-aeb5-4002cd35517a",
   "metadata": {},
   "source": [
    "### PageRank (Random surfer model)"
   ]
  },
  {
   "cell_type": "code",
   "execution_count": 2,
   "id": "46a78caa-47d3-455e-befe-7b60864919a1",
   "metadata": {},
   "outputs": [],
   "source": [
    "def build_adj_matrix(G): #create adjacency matrix of the graph\n",
    "    n = len(G)\n",
    "    if n == 0: raise('No nodes found')\n",
    "    else: #we opted for doing it witha  dictionary in which we store a 1 if there is a edge between the 2 nodes\n",
    "        ones = {} \n",
    "        \n",
    "        for u,v in sorted(list(G.edges())):\n",
    "            ones[(u,v)] = 1 \n",
    "    return ones"
   ]
  },
  {
   "cell_type": "code",
   "execution_count": 3,
   "id": "9894a92e-db24-4a1f-be56-8a1e94f0db30",
   "metadata": {},
   "outputs": [],
   "source": [
    "def mapper(G): #return dictionary with nodes as keys and index in matrix as value\n",
    "    conv={}\n",
    "    counter=0\n",
    "    for u in sorted(G.nodes):\n",
    "        conv[u]=counter\n",
    "        counter+=1\n",
    "    return conv"
   ]
  },
  {
   "cell_type": "code",
   "execution_count": 4,
   "id": "d0dc224c-66c1-466f-9408-b4443f3f0b3b",
   "metadata": {},
   "outputs": [],
   "source": [
    "def no_tp_P(G,mat,mapper):\n",
    "    keys = list(mat.keys())\n",
    "    c = Counter(u for u,v in keys) #count number of occurances of each node, so we know by what value we have to divide to obtain P^{RW}\n",
    "    for source in sorted(list(G)):\n",
    "        for (u,v) in keys:\n",
    "            if source == u and c[source] > 0:\n",
    "                mat[(u,v)] = 1/c[source] #we divide by the value here\n",
    "    keys = list(mat.keys())\n",
    "    M=np.zeros(shape=(len(G),len(G))) #build ndarray (aka matrix of P^{RW}) nxn \n",
    "    for (u,v) in keys:\n",
    "        value=mat[(u,v)]\n",
    "        i=mapper[u]\n",
    "        j=mapper[v]\n",
    "        M[i][j]=value\n",
    "    return M"
   ]
  },
  {
   "cell_type": "code",
   "execution_count": 5,
   "id": "0ee1c5c0-562a-47e7-ae99-7e4108351e24",
   "metadata": {},
   "outputs": [],
   "source": [
    "def build_P(M, alpha, n): #create the P matrix from given alpha and P^{RW}\n",
    "    P = (alpha/n * np.ones((n,n))) + ((1-alpha)*(M))   \n",
    "    return P"
   ]
  },
  {
   "cell_type": "code",
   "execution_count": 6,
   "id": "c86bafb1-637b-49f8-9775-aab9f89e0090",
   "metadata": {},
   "outputs": [],
   "source": [
    "def RandomSurfer(G, alpha, T=100): #T=time, aka n_iterations\n",
    "    n = len(G)\n",
    "    print('sit back and relax, this is going to take some time')\n",
    "    #Build P\n",
    "    mat = build_adj_matrix(G) \n",
    "    mapp = mapper(G)\n",
    "    mat = no_tp_P(G,mat,mapp)\n",
    "    P = build_P(mat, alpha, n)\n",
    "    \n",
    "    #randomize the starting point\n",
    "    start = random.randint(0,n)\n",
    "    #retrieve node given its index in amtrix\n",
    "    key_list = list(mapp.keys())\n",
    "    val_list = list(mapp.values())\n",
    "    s = key_list[val_list.index(start)] #s=starting node\n",
    "    \n",
    "    print(('starting from node {}').format(s))\n",
    "    \n",
    "    #initialize vecotr with all zeros except 1 at starting point\n",
    "    q0=np.zeros((n,1))\n",
    "    q0[start]=1\n",
    "    store_value=[]\n",
    "    conv=False\n",
    "    for t in tqdm(range(T)):\n",
    "        q = np.matmul(q0.T, np.linalg.matrix_power(P, t)) #q_t=q0 * P^t\n",
    "        if (t>0) and (np.array_equal(q, store_value[-1])):\n",
    "            print(('converged in {} steps').format(t-1))\n",
    "            q=store_value[-2] #else we are taking a all zeros array\n",
    "            conv=True\n",
    "            break\n",
    "        store_value.append(q)\n",
    "    if conv == False: print(\"didn't converge\")\n",
    "    return q"
   ]
  },
  {
   "cell_type": "markdown",
   "id": "a938aa68-5b94-4398-8d32-3aa947bf5b2e",
   "metadata": {},
   "source": [
    "### Beetweness"
   ]
  },
  {
   "cell_type": "code",
   "execution_count": null,
   "id": "3683136d-4f82-45b2-909e-f3f98c2ab919",
   "metadata": {},
   "outputs": [],
   "source": []
  }
 ],
 "metadata": {
  "kernelspec": {
   "display_name": "Python 3 (ipykernel)",
   "language": "python",
   "name": "python3"
  },
  "language_info": {
   "codemirror_mode": {
    "name": "ipython",
    "version": 3
   },
   "file_extension": ".py",
   "mimetype": "text/x-python",
   "name": "python",
   "nbconvert_exporter": "python",
   "pygments_lexer": "ipython3",
   "version": "3.9.7"
  }
 },
 "nbformat": 4,
 "nbformat_minor": 5
}
