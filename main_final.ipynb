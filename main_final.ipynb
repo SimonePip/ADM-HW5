{
 "cells": [
  {
   "cell_type": "markdown",
   "id": "1408143e-5fa4-4c09-beb8-bb3843333407",
   "metadata": {
    "tags": []
   },
   "source": [
    "# Part 1"
   ]
  },
  {
   "cell_type": "code",
   "execution_count": 1,
   "id": "0afe50cc-66a6-4b3d-b086-9bee6d01a7d1",
   "metadata": {},
   "outputs": [],
   "source": [
    "import pandas as pd\n",
    "import numpy as np\n",
    "from tqdm import tqdm\n",
    "import networkx as nx\n",
    "from collections import Counter\n",
    "import random\n",
    "import time\n",
    "import math\n",
    "from datetime import *\n",
    "from tabulate import tabulate\n",
    "import matplotlib as mpl\n",
    "import matplotlib.pyplot as plt\n",
    "from queue import Queue"
   ]
  },
  {
   "cell_type": "markdown",
   "id": "a89f4ef7-776e-4e10-9a3d-158a045be037",
   "metadata": {},
   "source": [
    "The idea we pursued to create the graph is the following:\n",
    "export the data to pandas dataframes, work on the dataframes and then exploit the built in function of networkx to convert the dataframe into a graph."
   ]
  },
  {
   "cell_type": "code",
   "execution_count": 3,
   "id": "fab4ae26-b912-4c77-8e4e-5f9f0f55c194",
   "metadata": {
    "tags": []
   },
   "outputs": [],
   "source": [
    "#read the files and convert to pandas dataframe\n",
    "a_q=pd.read_csv('a2q.txt.gz',sep=' ', names=['u','v','t'])  #answers to questions\n",
    "c_a=pd.read_csv('c2a.txt.gz',sep=' ', names=['u','v','t'])  #comments to answers\n",
    "c_q=pd.read_csv('c2q.txt.gz',sep=' ', names=['u','v','t'])  #comments to questions"
   ]
  },
  {
   "cell_type": "code",
   "execution_count": 4,
   "id": "245c0a7c-7be6-4c4f-b6c6-ad39e94f271e",
   "metadata": {},
   "outputs": [
    {
     "name": "stdout",
     "output_type": "stream",
     "text": [
      "(17823525, 3) (25405374, 3) (20268151, 3)\n"
     ]
    }
   ],
   "source": [
    "#check they are laoded correctly\n",
    "print(a_q.shape,c_a.shape,c_q.shape)"
   ]
  },
  {
   "cell_type": "code",
   "execution_count": 5,
   "id": "ce931860-3e69-45cc-8212-1f14cc0f9ef9",
   "metadata": {},
   "outputs": [],
   "source": [
    "#add type column to dataframes\n",
    "a_q['type'] = 'a_q'\n",
    "c_a['type'] = 'c_a'\n",
    "c_q['type'] = 'c_q'\n",
    "\n",
    "#add weights column initial value of 1\n",
    "a_q['weight'] = 1.\n",
    "c_a['weight'] = 1.\n",
    "c_q['weight'] = 1.\n",
    "\n",
    "#sort by time\n",
    "a_q=a_q.sort_values('t')\n",
    "c_a=c_a.sort_values('t')\n",
    "c_q=c_q.sort_values('t')"
   ]
  },
  {
   "cell_type": "code",
   "execution_count": 6,
   "id": "3340f0f4-ba30-497b-88c5-cde6b34b290c",
   "metadata": {},
   "outputs": [],
   "source": [
    "def time_maxmin(data,min,max): #Retrieve maximum and minimum timestamps of a given dataframe\n",
    "    m = data['t'].min()\n",
    "    M = data['t'].max()\n",
    "    if m < min:\n",
    "        min = m \n",
    "    if M > max:\n",
    "        max = M\n",
    "    return min, max"
   ]
  },
  {
   "cell_type": "code",
   "execution_count": 7,
   "id": "32726a2e-c724-43be-a195-37bc198c426a",
   "metadata": {},
   "outputs": [],
   "source": [
    "def date_to_timestamp(s): #convert date in format '04 March, 2009' to timestamp\n",
    "    d = datetime.strptime(s, \"%d %B, %Y\")\n",
    "    d = datetime.timestamp(d)\n",
    "    return d"
   ]
  },
  {
   "cell_type": "code",
   "execution_count": 8,
   "id": "5e5ae8b1-9e7a-415a-a2f2-e2a222fd1250",
   "metadata": {},
   "outputs": [],
   "source": [
    "def timestamp_to_date(timestamp): #convert timestamp to date\n",
    "    d = datetime.fromtimestamp(timestamp)\n",
    "    d = d.strftime(\"%d %B, %Y\")\n",
    "    return d"
   ]
  },
  {
   "cell_type": "code",
   "execution_count": 9,
   "id": "93ed4723-cfda-4007-b002-2021c22b521e",
   "metadata": {
    "tags": []
   },
   "outputs": [],
   "source": [
    "def create_graph(data1,time_window,self_loops=0): #given a pd dataframe clean values that are not in time interval and return a graph\n",
    "    #remove rows with u=v if we don't want self loops\n",
    "    if self_loops == 0: \n",
    "        data1 = data1[data1['u'] != data1['v']]\n",
    "    \n",
    "    #remove rows not having time 't' in given time interval\n",
    "    data1 = data1[data1['t'].between(time_window[0], time_window[1])]\n",
    "    \n",
    "    #assign weight --> 1 for every edge initially, then 1/n where n is the number of times u,v interact\n",
    "    #also remove multiple links bewtween 2 nodes and leave the last one in order of time\n",
    "    D = data1[['u','v']]\n",
    "    D = D[D.duplicated(keep=False)]\n",
    "    D = D.groupby(list(D)).apply(lambda x: tuple(x.index)).tolist()\n",
    "    for d in D:\n",
    "        ind = list(d)\n",
    "        val = len(ind)\n",
    "        drop = ind[:-1]\n",
    "        data1.at[ind[-1], 'weight'] = 1./float(val)\n",
    "        #print(1./float(val))\n",
    "        data1 = data1.drop(index = drop)\n",
    "    \n",
    "    #convert the dataframe into a multi directed graph with attributes of edges being: last time of interaction, type of interaction and weight of interaction\n",
    "    G = nx.from_pandas_edgelist(data1, 'u', 'v', ['t', 'type', 'weight'], create_using = nx.MultiDiGraph())\n",
    "    return G"
   ]
  },
  {
   "cell_type": "code",
   "execution_count": 10,
   "id": "1e398d54-906b-4a26-ae3b-e921a36d17e5",
   "metadata": {},
   "outputs": [
    {
     "name": "stdout",
     "output_type": "stream",
     "text": [
      "01 August, 2008; 06 March, 2016\n"
     ]
    }
   ],
   "source": [
    "#here we get maximum and minimum timestamps of the whole data\n",
    "m = 10**(10)\n",
    "M = 0\n",
    "m, M = time_maxmin(a_q, m, M)\n",
    "m, M = time_maxmin(c_a, m, M)\n",
    "m, M = time_maxmin(c_q, m, M)\n",
    "print(timestamp_to_date(m)+'; '+ timestamp_to_date(M))"
   ]
  },
  {
   "cell_type": "code",
   "execution_count": 11,
   "id": "94854c30-6533-4886-b75e-4e75453c315e",
   "metadata": {},
   "outputs": [],
   "source": [
    "#obviously choose a time window that's inside (m,M)\n",
    "time_window = ('04 March, 2009', '12 March, 2009')\n",
    "time_window=(date_to_timestamp(time_window[0]),date_to_timestamp(time_window[1]))\n",
    "#and create the graphs out of the 3 dataframes\n",
    "A = create_graph(a_q, time_window)\n",
    "B = create_graph(c_a, time_window)\n",
    "C = create_graph(c_q, time_window)"
   ]
  },
  {
   "cell_type": "code",
   "execution_count": 12,
   "id": "7de57b6e-3d3c-4004-8eb7-f5b652aed930",
   "metadata": {},
   "outputs": [],
   "source": [
    "#merge the graphs\n",
    "G = nx.compose_all([A, B, C])"
   ]
  },
  {
   "cell_type": "code",
   "execution_count": 13,
   "id": "d34d6d34-0d51-4e12-8f3d-b7e5477d0eb2",
   "metadata": {},
   "outputs": [],
   "source": [
    "def drop_edges(G,time_window):#drop edges in the graph that are not in the given time interval\n",
    "    to_drop=[]\n",
    "    time_window=(date_to_timestamp(time_window[0]),date_to_timestamp(time_window[1]))\n",
    "    \n",
    "    for u,v,att in G.edges(data=True):\n",
    "        if not time_window[0] <= att['t'] <= time_window[1]:\n",
    "            to_drop.append((u, v))\n",
    "    [G.remove_edge(u,v) for (u,v) in to_drop]\n",
    "    return G"
   ]
  },
  {
   "cell_type": "markdown",
   "id": "6f983261-b90b-4420-a248-5360fd58742e",
   "metadata": {
    "tags": []
   },
   "source": [
    "# Part 2"
   ]
  },
  {
   "cell_type": "markdown",
   "id": "ca38ce4c-8533-447e-a59d-8f2fe1f54598",
   "metadata": {
    "tags": []
   },
   "source": [
    "## 2.1"
   ]
  },
  {
   "cell_type": "code",
   "execution_count": 14,
   "id": "a992ce6c-477e-42df-82db-286732337f94",
   "metadata": {
    "tags": []
   },
   "outputs": [],
   "source": [
    "def get_feats(G): #Get requested features for given graph\n",
    "    feats=[] \n",
    "    \n",
    "    n_interactions = 0\n",
    "    dir_list = []\n",
    "    users=[]\n",
    "    \n",
    "    for u,v,attr in (G.edges(data=True)):\n",
    "        if (G.has_edge(v,u)) and (n_interactions<=len(A.edges(data=True))/2) : #condition to check if graph is directed or not\n",
    "            dir_list.append(abs(attr['weight']-G.get_edge_data(v, u)[0]['weight']))\n",
    "        \n",
    "        if u not in users: users.append(u) #update the users list\n",
    "        if v not in users: users.append(v)\n",
    "\n",
    "        n_interactions += 1 #count interactions\n",
    "        \n",
    "    if all(val == 0 for val in dir_list): direct=False #not directed\n",
    "    else: direct=True #directed\n",
    "     \n",
    "    n_users = len(users) #count users\n",
    "     \n",
    "    avg_links = 0 #initialize values for avg links and density\n",
    "    density = 0\n",
    "    g = None\n",
    "    if n_users>0: \n",
    "        avg_links = n_interactions/n_users #just compute a mean\n",
    "        \n",
    "        if direct: # we have the 2 cases for directed and undirected graph\n",
    "            density = 2*n_interactions/(n_users*(n_users-1))\n",
    "        else:\n",
    "            density = n_interactions/(n_users*(n_users-1))\n",
    "                                \n",
    "        if density>0.5: #this is straightforward: we are defining a graph to be sparse if its density value<=0.5 and dense otherwise\n",
    "            g='dense'\n",
    "        else:\n",
    "            g='sparse'\n",
    "        \n",
    "    #return list with asked values\n",
    "    feats.extend((direct, n_users, n_interactions, avg_links, density, g))\n",
    "    \n",
    "    return feats"
   ]
  },
  {
   "cell_type": "code",
   "execution_count": 15,
   "id": "cfdcabc1-80f5-4bb2-8b86-38048f2fde2f",
   "metadata": {},
   "outputs": [
    {
     "data": {
      "text/plain": [
       "[True, 7075, 24819, 3.5079858657243816, 0.0009917969651468425, 'sparse']"
      ]
     },
     "execution_count": 15,
     "metadata": {},
     "output_type": "execute_result"
    }
   ],
   "source": [
    "get_feats(G)"
   ]
  },
  {
   "cell_type": "markdown",
   "id": "e76661df-0e8a-4ebe-9a00-c6105823bb85",
   "metadata": {
    "tags": []
   },
   "source": [
    "## 2.2"
   ]
  },
  {
   "cell_type": "markdown",
   "id": "1a2417bd-91f8-4230-aeb5-4002cd35517a",
   "metadata": {},
   "source": [
    "### PageRank (Random surfer model)"
   ]
  },
  {
   "cell_type": "markdown",
   "id": "182faf12-c06e-4cef-acd8-d008cfa7de59",
   "metadata": {},
   "source": [
    "To compure PageRank we first create the adjacency matrix of the graph, then build the $P^{RW}$ (random walk) matrix, and after that we assign $\\alpha=0.2$ to create the $P$ matrix using the formula:\n",
    "\n",
    "Given $n=\\#nodes$\n",
    "\n",
    "$P=\\frac{\\alpha}{n}M_1+(1-\\alpha)P^{RW}$ where $M_1$ is a $nxn$ matrix filled with ones.\n",
    "\n",
    "At this point choose a random starting node $s$ and create a vector $\\vec{q}_{0}$ with all zeros except for position related to $s$, which has value 1 and iterate for a time T (T steps in a cycle) the following formula:\n",
    "\n",
    "$\\vec{q}_{t} = \\vec{q}_{0} P^t$ for $t$ in $T$."
   ]
  },
  {
   "cell_type": "code",
   "execution_count": 16,
   "id": "46a78caa-47d3-455e-befe-7b60864919a1",
   "metadata": {},
   "outputs": [],
   "source": [
    "def build_adj_matrix(G,n): #create adjacency matrix of the graph\n",
    "    if n == 0: raise('No nodes found')\n",
    "    else: #we opted for doing it with a  dictionary in which we store a 1 if there is a edge between the 2 nodes\n",
    "        ones = {} \n",
    "        \n",
    "        for u,v in sorted(list(G.edges())):\n",
    "            ones[(u,v)] = 1 \n",
    "    return ones"
   ]
  },
  {
   "cell_type": "code",
   "execution_count": 17,
   "id": "9894a92e-db24-4a1f-be56-8a1e94f0db30",
   "metadata": {},
   "outputs": [],
   "source": [
    "def mapper(G): #return dictionary with nodes as keys and index in matrix as value\n",
    "    conv={}    #maps from nodes to values in matrix, can be used in the opposite way too\n",
    "    counter=0\n",
    "    for u in sorted(G.nodes):\n",
    "        conv[u]=counter\n",
    "        counter+=1\n",
    "    return conv"
   ]
  },
  {
   "cell_type": "code",
   "execution_count": 18,
   "id": "d0dc224c-66c1-466f-9408-b4443f3f0b3b",
   "metadata": {},
   "outputs": [],
   "source": [
    "def no_tp_P(G,mat,mapper,n):\n",
    "    keys = list(mat.keys())\n",
    "    c = Counter(u for u,v in keys) #count number of occurances of each node, so we know by what value we have to divide to obtain P^{RW}\n",
    "    for source in sorted(list(G)):\n",
    "        for (u,v) in keys:\n",
    "            if source == u and c[source] > 0:\n",
    "                mat[(u,v)] = 1/c[source] #we divide by the value here\n",
    "    keys = list(mat.keys())\n",
    "    M=np.zeros(shape=(n,n)) #build ndarray (aka matrix of P^{RW}) nxn \n",
    "    for (u,v) in keys:      #fill matrix\n",
    "        value=mat[(u,v)]\n",
    "        i=mapper[u]\n",
    "        j=mapper[v]\n",
    "        #print(u,v)\n",
    "        M[i][j]=value\n",
    "    return M"
   ]
  },
  {
   "cell_type": "code",
   "execution_count": 19,
   "id": "0ee1c5c0-562a-47e7-ae99-7e4108351e24",
   "metadata": {},
   "outputs": [],
   "source": [
    "def build_P(M, alpha, n): #create the P matrix from given alpha and P^{RW}\n",
    "    P = (alpha/n * np.ones((n,n))) + ((1-alpha)*(M))   \n",
    "    return P"
   ]
  },
  {
   "cell_type": "code",
   "execution_count": 20,
   "id": "2790569f-85e5-429e-9ed2-d6cd70fd0b85",
   "metadata": {},
   "outputs": [],
   "source": [
    "def RandomSurfer(G, u, alpha, n, T=100): #T=time, aka n_iterations\n",
    "    print('sit back and relax, this is going to take some time')\n",
    "    #Build P\n",
    "    mat = build_adj_matrix(G,n) \n",
    "    mapp = mapper(G)\n",
    "    mat = no_tp_P(G,mat,mapp,n)\n",
    "    P = build_P(mat, alpha, n)\n",
    "    \n",
    "    #retrieve index of given node in the matrix\n",
    "    ind=mapp[u]\n",
    "    \n",
    "    #randomize the starting point\n",
    "    start = random.randint(0,n)\n",
    "    #retrieve node given its index in matrix\n",
    "    key_list = list(mapp.keys())\n",
    "    val_list = list(mapp.values())\n",
    "    s = key_list[val_list.index(start)] #s=starting node\n",
    "    \n",
    "    print(('starting from node {}').format(s))\n",
    "    \n",
    "    #initialize vector with all zeros except 1 at starting point\n",
    "    q0=np.zeros((n,1))\n",
    "    q0[start]=1\n",
    "    store_value=[]\n",
    "    conv=False\n",
    "    for t in tqdm(range(T)):\n",
    "        q = np.matmul(q0.T, np.linalg.matrix_power(P, t)) #q_t=q0 * P^t\n",
    "        if (t>0) and (np.array_equal(q, store_value[-1])):\n",
    "            print(('converged in {} steps').format(t-1))\n",
    "            q=store_value[-2] #else we are taking a all zeros array\n",
    "            conv=True\n",
    "            break\n",
    "        store_value.append(q)\n",
    "    if conv == False: print(\"didn't converge\")\n",
    "    return q[0][ind]"
   ]
  },
  {
   "cell_type": "code",
   "execution_count": 21,
   "id": "c935b8d4-097b-4cd7-8bf2-e3aa4091b508",
   "metadata": {},
   "outputs": [
    {
     "name": "stdout",
     "output_type": "stream",
     "text": [
      "sit back and relax, this is going to take some time\n"
     ]
    },
    {
     "name": "stderr",
     "output_type": "stream",
     "text": [
      "  0%|          | 0/100 [00:00<?, ?it/s]"
     ]
    },
    {
     "name": "stdout",
     "output_type": "stream",
     "text": [
      "starting from node 69155\n"
     ]
    },
    {
     "name": "stderr",
     "output_type": "stream",
     "text": [
      "100%|██████████| 100/100 [1:30:29<00:00, 54.29s/it]"
     ]
    },
    {
     "name": "stdout",
     "output_type": "stream",
     "text": [
      "didn't converge\n"
     ]
    },
    {
     "name": "stderr",
     "output_type": "stream",
     "text": [
      "\n"
     ]
    },
    {
     "data": {
      "text/plain": [
       "3.1346121217268687e-09"
      ]
     },
     "execution_count": 21,
     "metadata": {},
     "output_type": "execute_result"
    }
   ],
   "source": [
    "RandomSurfer(G, 1, 0.2, len(G), T=100)"
   ]
  },
  {
   "cell_type": "markdown",
   "id": "a938aa68-5b94-4398-8d32-3aa947bf5b2e",
   "metadata": {
    "tags": []
   },
   "source": [
    "### Closeness"
   ]
  },
  {
   "cell_type": "markdown",
   "id": "61595363-bf09-4d18-a221-929ec86ce9e9",
   "metadata": {},
   "source": [
    "Computed as\n",
    "\n",
    "$Closeness(v)= \\frac{n-1}{\\sum_{u\\epsilon V \\setminus\\{v\\}}d(v,u)}$\n",
    "where $d(v,u)=$ shortest path distance between (u,v).\n"
   ]
  },
  {
   "cell_type": "code",
   "execution_count": 22,
   "id": "3683136d-4f82-45b2-909e-f3f98c2ab919",
   "metadata": {},
   "outputs": [],
   "source": [
    "def shortest_path(G,source,target):\n",
    "    dist = {}\n",
    "    prev = {}\n",
    "    nodes_list=[]\n",
    "    #Initialization\n",
    "    for node in nx.nodes(G):\n",
    "        dist.update({node : math.inf}) # A dict with the nodes and the distances (We initialize all the distances as + infinite)\n",
    "        prev.update({node : None}) # A dict with the previous node of each node \n",
    "        nodes_list.append(node) # A list with the nodes that have not been visited\n",
    "    dist[source] = 0 # We initialize the distance of the source node as 0\n",
    "    \n",
    "    while len(nodes_list) != 0: # We will do the next steps until we'll have visited all the nodes are we'll have found the target node\n",
    "       \n",
    "        # the algorithm starts visiting the node with the lower distance\n",
    "        dist_list =[] \n",
    "        for node in nodes_list:\n",
    "            dist_list.append(dist[node])\n",
    "        u = nodes_list[dist_list.index(min(dist_list))]\n",
    "        nodes_list.remove(u) # removing the node from the list of the nodes that have not been visited\n",
    "        \n",
    "        #If the visited node il the target stop the visits\n",
    "        if u == target:\n",
    "            break\n",
    "            \n",
    "        #Otherwise we look at the neighbors\n",
    "        for neighbor in G.neighbors(u):\n",
    "            #computing the new distances for all neighbors\n",
    "            new_dist = dist[u] + G[u][neighbor][0]['weight']\n",
    "            #If the new distance is lower than the previous one we update di distances dict\n",
    "            if dist[neighbor] > new_dist:\n",
    "                dist[neighbor] = new_dist\n",
    "                prev[neighbor] = u\n",
    "                \n",
    "    #If the target has not a previous node it means that there is nott a path (the graph is not connected) so the algorithm\n",
    "    #returns 'not possible'\n",
    "    if prev[target] == None:\n",
    "        return ('Not possible', [-1])\n",
    "    \n",
    "    #creating a list with the path from the source node to the target\n",
    "    path_node = target\n",
    "    path = [path_node]\n",
    "    \n",
    "    while path_node != source:\n",
    "    \n",
    "        path.insert(0,prev[path_node])\n",
    "        path_node = prev[path_node]\n",
    "    \n",
    "    #The algorithm returns the distance of the target and the path\n",
    "    return dist[target], path\n"
   ]
  },
  {
   "cell_type": "code",
   "execution_count": 23,
   "id": "05584a09-e1e1-47f4-959c-c264f0e9f51e",
   "metadata": {},
   "outputs": [],
   "source": [
    "def Closeness(G,u,n): #Pretty straightforward: we are just applying the formula described above\n",
    "    somma=0\n",
    "    for v in tqdm(G.nodes):\n",
    "        dist,path=shortest_path(G,u,v)\n",
    "        if (dist!='Not possible') and (dist!=0):\n",
    "            somma+=int(dist)\n",
    "    if somma>0: return ((n-1)/somma)\n",
    "    else: raise('Error: sum=0')"
   ]
  },
  {
   "cell_type": "code",
   "execution_count": 24,
   "id": "6ab2fafc-1d3d-485b-8ebe-a140845084c0",
   "metadata": {},
   "outputs": [
    {
     "name": "stderr",
     "output_type": "stream",
     "text": [
      "100%|██████████| 7075/7075 [4:04:43<00:00,  2.08s/it]     \n"
     ]
    },
    {
     "data": {
      "text/plain": [
       "0.32397526906343027"
      ]
     },
     "execution_count": 24,
     "metadata": {},
     "output_type": "execute_result"
    }
   ],
   "source": [
    "Closeness(G,1,len(G))"
   ]
  },
  {
   "cell_type": "markdown",
   "id": "61c8cfc1-65d6-432b-9e28-8ce8e9a6eb21",
   "metadata": {
    "tags": []
   },
   "source": [
    "### Betweenness"
   ]
  },
  {
   "cell_type": "markdown",
   "id": "dd1cbcc0-9b50-4d84-bfe6-57aa18d85b0a",
   "metadata": {},
   "source": [
    "Computed as\n",
    "\n",
    "$Betweenness(v)= \\frac{\\sum_{u,w\\epsilon V \\setminus\\{v\\}} \\frac{g_{u,v}^v}{g_{u,v}}}{{n-1 \\choose 2}}$\n",
    "\n",
    "where:\n",
    "* $g_{u,v}^v = $ # shortest paths between the 2 nodes (u,w) passing through v,\n",
    "* $g_{u,v} = $ # shortest paths between the 2 nodes (u,w),\n",
    "* $n = $ # nodes in the graph."
   ]
  },
  {
   "cell_type": "code",
   "execution_count": 32,
   "id": "501a4a77-1f17-43b0-bfa5-ada1667bb880",
   "metadata": {},
   "outputs": [],
   "source": [
    "def Betweenness(G,q,n): #Pretty straightforward: we are just applying the formula described above\n",
    "    print(\"You chose to use betweenness, we suggest you to go out and take a hangover, you'll be fine before this is over\")\n",
    "    somma_q = 0\n",
    "    somma = 0\n",
    "    for u in tqdm(G.nodes):\n",
    "        for v in (G.nodes):\n",
    "            dist,path = shortest_path(G,u,v)\n",
    "            if (dist!='Not possible') and (dist!=0):\n",
    "                somma+=dist\n",
    "                if q in path:\n",
    "                    somma_q+=dist\n",
    "    \n",
    "    num = 2*somma_q/somma\n",
    "    den = n*n - 3*n + 2\n",
    "    if den>0: return num/den\n",
    "    else: raise('Error: denominator=0')"
   ]
  },
  {
   "cell_type": "code",
   "execution_count": null,
   "id": "1267bf9d-91bd-400a-9e0f-3f07b5f6e557",
   "metadata": {
    "tags": []
   },
   "outputs": [],
   "source": [
    "Betweenness(G,1,len(G_B)) #We didn't run it because it takes so much time on such big graphs, but it works"
   ]
  },
  {
   "cell_type": "code",
   "execution_count": 33,
   "id": "3a681c63-17b2-45bc-949d-b8433d072cc7",
   "metadata": {
    "tags": []
   },
   "outputs": [],
   "source": [
    "def dist(G, u, metric, time_interval, alpha=0.2):  #return the queried metric for the given node\n",
    "    G1=G.copy()\n",
    "    G1=drop_edges(G1,time_interval)\n",
    "    values = get_feats(G)\n",
    "    n = values[1]\n",
    "    if metric == 'Betweeness':\n",
    "        return Betweenness(G1,u,n)\n",
    "    \n",
    "    elif metric == 'PageRank':\n",
    "        return RandomSurfer(G1, u, alpha, n)\n",
    "    \n",
    "    elif metric == 'Closeness':\n",
    "        return Closeness(G1,u,n)\n",
    "    \n",
    "    elif metric == 'Degree':\n",
    "        return (G1.degree(int(u))/(n-1))\n",
    "    \n",
    "    else:\n",
    "        raise('Metric not allowed')"
   ]
  },
  {
   "cell_type": "code",
   "execution_count": 34,
   "id": "b7c8aaff-872c-480a-be35-bbc2f7dfceeb",
   "metadata": {},
   "outputs": [
    {
     "data": {
      "text/plain": [
       "0.0002827254735651682"
      ]
     },
     "execution_count": 34,
     "metadata": {},
     "output_type": "execute_result"
    }
   ],
   "source": [
    "dist(G,1,'Degree',('04 March, 2009', '05 March, 2009'))"
   ]
  },
  {
   "cell_type": "markdown",
   "id": "d42ee6f0-1b9f-4075-8aaf-e6a6341d92c5",
   "metadata": {},
   "source": [
    "## 2.3"
   ]
  },
  {
   "cell_type": "markdown",
   "id": "02140458-b6c8-407e-b8ca-a3935dfd98e7",
   "metadata": {},
   "source": [
    "This function computes the shortest path between each node of the sequence in order and then it returns the total shortest path. If two nodes of the sequence are disconnected it returns the string 'Not possible'."
   ]
  },
  {
   "cell_type": "code",
   "execution_count": 35,
   "id": "22f99afb-6023-4c67-a473-f02dee2e7591",
   "metadata": {
    "tags": []
   },
   "outputs": [],
   "source": [
    "def path(G,time_interval,users,source,target):\n",
    "    G_new = G.copy()\n",
    "    G_new = drop_edges(G_new,time_interval)\n",
    "    s_p = shortest_path(G_new,source,users[0])\n",
    "    dist = s_p[0]\n",
    "    path = s_p[1]\n",
    "    if dist == 'Not possible': #if the graph is not connected it returns 'Not possible'\n",
    "        return 'Not possible'\n",
    "    \n",
    "    for i in range(len(users)-1):\n",
    "        s_p = shortest_path(G_new,users[i],users[i+1])\n",
    "        if s_p[0] == 'Not possible':\n",
    "            return 'Not possible'\n",
    "        dist += s_p[0]\n",
    "        path.extend(s_p[1][1:])\n",
    "        \n",
    "    s_p = shortest_path(G_new,users[-1],target)\n",
    "    if s_p[0] == 'Not possible':\n",
    "            return 'Not possible'\n",
    "        \n",
    "    dist += s_p[0]\n",
    "    path.extend(s_p[1][1:]) \n",
    "    \n",
    "   \n",
    "    return dist,path #it returns the total distance and the path"
   ]
  },
  {
   "cell_type": "code",
   "execution_count": 36,
   "id": "9c9a638a-e868-4275-a534-483d4cb594af",
   "metadata": {},
   "outputs": [
    {
     "data": {
      "text/plain": [
       "(3.0, [414876, 72859, 1585, 53055])"
      ]
     },
     "execution_count": 36,
     "metadata": {},
     "output_type": "execute_result"
    }
   ],
   "source": [
    "path(G,('04 March, 2009', '05 March, 2009'),[72859,1585],414876, 53055)"
   ]
  },
  {
   "cell_type": "markdown",
   "id": "454a4eaa-a44e-4a39-bfd0-1a895c10b9a3",
   "metadata": {},
   "source": [
    "## 2.4"
   ]
  },
  {
   "cell_type": "markdown",
   "id": "0867254f-dc13-4049-adc5-966d0d3303bc",
   "metadata": {},
   "source": [
    "This function takes in input a graph, an interval of time and two users and it returns the number of link to cut to disconnect the two users. \n",
    "To disconnect the two nodes it finds the shortest path between the two nodes, it cuts the edge with the lower weight and then it restart this operations until the two nodes are disconnected (there are no more path between them)."
   ]
  },
  {
   "cell_type": "code",
   "execution_count": 37,
   "id": "53f907f9-3d1e-4783-9b26-94478bb37c3a",
   "metadata": {},
   "outputs": [],
   "source": [
    "def disconnect(G,time_interval,u1,u2):\n",
    "    \n",
    "    #Creating the graph from the interval of time\n",
    "    G_tot = G.copy()  \n",
    "    G_tot = drop_edges(G_tot,time_interval)\n",
    "    path = shortest_path(G_tot,u1,u2)[1]\n",
    "    \n",
    "    #Checking if the two nodes are already disconnected\n",
    "    if path == [-1]:\n",
    "        return 'the two nodes are disconnected'\n",
    "    \n",
    "    #Initializing the weight of the links to cut, the number of links and the edges to cut\n",
    "    weight = 0\n",
    "    num_link = 0\n",
    "    edge = (path[0],path[1])\n",
    "    edges_cut = []\n",
    "    #Until there are no more path between the to nodes this algorithm finds the shortest path between them and then\n",
    "    #It cuts the link of the path with the lower weight\n",
    "    while path != [-1]:\n",
    "        min_weight = math.inf #Initializing the min weight as infinite\n",
    "        \n",
    "        #Finding the link of the path to cut (the one with the lower weight)\n",
    "        for i in range(len(path)-1):\n",
    "            j = i + 1\n",
    "            if G_tot[path[i]][path[j]][0]['weight'] < min_weight:\n",
    "                min_weight = G_tot[path[i]][path[j]][0]['weight']\n",
    "                edge = (path[i],path[j])  \n",
    "            weight += min_weight  \n",
    "        #Updating the number of links to cut and the edges to cut\n",
    "        num_link += 1\n",
    "        edges_cut.append(edge)\n",
    "        G_tot.remove_edge(*edge) #removing the edge to cut from the graph\n",
    "        path = shortest_path(G_tot,u1,u2)[1]\n",
    "    print('the minimum number of links to cut is ' +  str(num_link) + ' with a total weight of ' + str(weight))    \n",
    "    return num_link, edges_cut #It returns the number of links to cut and the edges to cut"
   ]
  },
  {
   "cell_type": "code",
   "execution_count": 38,
   "id": "0ce26269-dd9b-4047-af50-53abeb802a1b",
   "metadata": {},
   "outputs": [
    {
     "name": "stdout",
     "output_type": "stream",
     "text": [
      "the minimum number of links to cut is 1 with a total weight of 2.0\n"
     ]
    },
    {
     "data": {
      "text/plain": [
       "(1, [(414876, 72859)])"
      ]
     },
     "execution_count": 38,
     "metadata": {},
     "output_type": "execute_result"
    }
   ],
   "source": [
    "disconnect(G,('04 March, 2009', '05 March, 2009'),414876,1585)"
   ]
  },
  {
   "cell_type": "markdown",
   "id": "f331e106-44fe-483a-b932-008d5ce3eeda",
   "metadata": {
    "tags": []
   },
   "source": [
    "# Part 3"
   ]
  },
  {
   "cell_type": "markdown",
   "id": "4d0a8bc1-474b-4a2d-aa34-c0d062a5282f",
   "metadata": {},
   "source": [
    "## 3.1"
   ]
  },
  {
   "cell_type": "code",
   "execution_count": 39,
   "id": "209d2a58-556f-4da0-a941-0977b3d00e22",
   "metadata": {},
   "outputs": [],
   "source": [
    "def create_table(features): #creates table for the output of function 1\n",
    "    table=[['Directed','n_users','tot_interactions','avg links per user','Density degree','type'],features]\n",
    "    print(tabulate(table,headers='firstrow'))\n",
    "    return"
   ]
  },
  {
   "cell_type": "code",
   "execution_count": 40,
   "id": "3b3c4aa2-fe8d-4c35-8ec9-91386159886c",
   "metadata": {},
   "outputs": [],
   "source": [
    "def plot_degree_hist(G): #creates histogram plot for the oputput of function 1\n",
    "    degrees = [G.degree(n) for n in G.nodes()]\n",
    "    plt.figure(figsize=(10,5))\n",
    "    plt.hist(degrees,len(G)//40,density=False)\n",
    "    plt.title(\"Nodes' degree distribution\")\n",
    "    plt.xlabel(\"User\")\n",
    "    plt.ylabel(\"User's degree\")\n",
    "    plt.show()\n",
    "    return\n"
   ]
  },
  {
   "cell_type": "markdown",
   "id": "0bc1e5ad-a029-4f57-b508-0107076a7d94",
   "metadata": {},
   "source": [
    "## 3.2"
   ]
  },
  {
   "cell_type": "code",
   "execution_count": 41,
   "id": "18b2e176-ef25-4f44-955a-6cf6f5bbbe6c",
   "metadata": {},
   "outputs": [],
   "source": [
    "def getNeighs(G,u): #get neighbors of given node and retrieve edges between those nodes\n",
    "    neigh = [v for v in G.neighbors(u)]\n",
    "    neigh.append(u)\n",
    "    \n",
    "    edgelist=[]\n",
    "    for node1 in neigh:\n",
    "        for node2 in neigh:\n",
    "            if (node1,node2) in G.edges:\n",
    "                edgelist.append ((node1,node2))\n",
    "            if (node2,node1) in G.edges:\n",
    "                edgelist.append((node2,node1))\n",
    "    return neigh,edgelist"
   ]
  },
  {
   "cell_type": "code",
   "execution_count": 42,
   "id": "0c6b3fb7-4ed5-45ba-9361-c18c9a158017",
   "metadata": {},
   "outputs": [],
   "source": [
    "def draw_neighs(G,u,time_interval):\n",
    "    t1 = date_to_timestamp(time_interval[0])\n",
    "    t2 = date_to_timestamp(time_interval[1])\n",
    "    upd = (t2-t1)/3\n",
    "    \n",
    "    #create 3 copies of given graph top work on\n",
    "    G1=G.copy()\n",
    "    G2=G.copy()\n",
    "    G3=G.copy()\n",
    "    \n",
    "    G1=drop_edges(G1,(timestamp_to_date(t1),timestamp_to_date(t1+upd)))\n",
    "    G2=drop_edges(G2,(timestamp_to_date(t1),timestamp_to_date(t1+(2*upd))))\n",
    "    G3=drop_edges(G3,(timestamp_to_date(t1),timestamp_to_date(t2)))\n",
    "    \n",
    "    neigh,edgelist = getNeighs(G1,u) \n",
    "    print((\"that's what it was like until {}, with a total of {} nodes and {} edges\").format(timestamp_to_date(t1+upd),len(neigh),len(edgelist)))\n",
    "    plt.figure(1)\n",
    "    nx.draw_networkx(G1, nodelist=neigh, edgelist=edgelist, node_size=200, width=0.5, with_labels = False, cmap='Blues', edge_cmap='Reds')\n",
    "    plt.show()\n",
    "    \n",
    "    neigh,edgelist = getNeighs(G2,u) \n",
    "    print((\"that's what it was like until {}, with a total of {} nodes and {} edges\").format(timestamp_to_date(t1+ (2*upd)),len(neigh),len(edgelist)))\n",
    "    plt.figure(2)\n",
    "    nx.draw_networkx(G2, nodelist=neigh, edgelist=edgelist, node_size=200, width=0.5, with_labels = False, cmap='Blues', edge_cmap='Reds')\n",
    "    plt.show()\n",
    "\n",
    "    neigh,edgelist = getNeighs(G3,u)     \n",
    "    print((\"that's what it was like until {}, with a total of {} nodes and {} edges\").format(timestamp_to_date(t2),len(neigh),len(edgelist)))\n",
    "    plt.figure(3)\n",
    "    nx.draw_networkx(G3, nodelist=neigh, edgelist=edgelist, node_size=200, width=0.5, with_labels = False, cmap='Blues', edge_cmap='Reds')\n",
    "    plt.show()\n",
    "    return"
   ]
  },
  {
   "cell_type": "markdown",
   "id": "691b7745-0c43-45ae-b8af-714e46c68226",
   "metadata": {},
   "source": [
    "## 3.3"
   ]
  },
  {
   "cell_type": "markdown",
   "id": "870b730c-482b-4126-974f-8ad97ea4ebc1",
   "metadata": {},
   "source": [
    "This function takes in input a path and draws it in a subgraph composed of the neighbors of the nodes in the graph.\n",
    "The path is pointed out with the red colour."
   ]
  },
  {
   "cell_type": "code",
   "execution_count": 43,
   "id": "d709c58c-4fbc-49f9-b3c8-717270fadab0",
   "metadata": {},
   "outputs": [],
   "source": [
    "def draw_path(path):  \n",
    "    neigh=[]\n",
    "    edgelist=[]\n",
    "    edges = []\n",
    "    for i in range(len(path)-1):\n",
    "        edge = (path[i],path[i+1])\n",
    "        edges.append(edge)\n",
    "        \n",
    "    #Finding the neighbors of the nodes in the path to draw the subgraph\n",
    "    for node in path:\n",
    "        neighbor = getNeighs(G,node)\n",
    "        neigh.extend(neighbor[0])\n",
    "        edgelist.extend(neighbor[1])\n",
    "    \n",
    "    #highlighting in red the edges of the path\n",
    "    red_edges = edges\n",
    "    edge_colors = ['black' if not edge in red_edges else 'red' for edge in edgelist]\n",
    "    plt.figure(figsize=(8,8),dpi=80)\n",
    "    width = [0.5 if not edge in red_edges else 4 for edge in edgelist]\n",
    "    nx.draw(G, nodelist = neigh,pos=nx.random_layout(G), arrowsize = 15,edgelist = edgelist, node_size=150, width=width, with_labels = False, edge_color=edge_colors)\n",
    "    plt.show()\n",
    "    return "
   ]
  },
  {
   "cell_type": "markdown",
   "id": "57987665-64cc-4a03-a179-d79196800c60",
   "metadata": {},
   "source": [
    "## 3.4"
   ]
  },
  {
   "cell_type": "markdown",
   "id": "37a1499e-60dc-4318-8374-c83f9356b767",
   "metadata": {},
   "source": [
    "This function takes in input a list of edges and a graph and it draws the edges in a subgraph composed of the neighbors in the nodes of the edges to cut."
   ]
  },
  {
   "cell_type": "code",
   "execution_count": 44,
   "id": "370309f2-8258-47b7-b4ff-4c5e4b069465",
   "metadata": {},
   "outputs": [],
   "source": [
    "def draw_cut_links(edges,G):    \n",
    "    neigh=[]\n",
    "    edgelist=[]\n",
    "    \n",
    "    #Finding the neighbors of the nodes in the edges to cut in order to draw the subgraph\n",
    "    for el in edges:\n",
    "        for node in el:\n",
    "            neighbor = getNeighs(G,node)\n",
    "            neigh.extend(neighbor[0])\n",
    "            edgelist.extend(neighbor[1])\n",
    "    edgelist.extend(edges)   \n",
    "    \n",
    "     \n",
    "    #highlighting in red the edges to cut\n",
    "    red_edges = edges\n",
    "    edge_colors = ['black' if not edge in red_edges else 'red' for edge in edgelist]\n",
    "    plt.figure(figsize=(8,8),dpi=80)\n",
    "    width = [0.5 if not edge in red_edges else 3.5 for edge in edgelist]\n",
    "    nx.draw(G, nodelist = neigh,pos=nx.spring_layout(G), arrowsize = 15,edgelist = edgelist, node_size=150, width=width, with_labels = False, edge_color=edge_colors)\n",
    "    plt.show()\n",
    "    return"
   ]
  },
  {
   "cell_type": "markdown",
   "id": "a3a37132-f769-46c8-be62-2bf6a5363d12",
   "metadata": {},
   "source": [
    "# FUNCTIONALITIES"
   ]
  },
  {
   "cell_type": "code",
   "execution_count": 45,
   "id": "b2a0aa4c-9e17-4973-b3ed-2fb8bc7413c7",
   "metadata": {},
   "outputs": [],
   "source": [
    "def functionality_1(G):\n",
    "    feats=get_feats(G)\n",
    "    print(\"Let's trade some of your seconds for some good looking plot\")\n",
    "    create_table(feats)\n",
    "    plot_degree_hist(G)\n",
    "    return"
   ]
  },
  {
   "cell_type": "code",
   "execution_count": 46,
   "id": "b0f716b3-9492-45aa-b4a4-983d24da8eb3",
   "metadata": {},
   "outputs": [
    {
     "name": "stdout",
     "output_type": "stream",
     "text": [
      "Let's trade some of your seconds for some good looking plot\n",
      "Directed      n_users    tot_interactions    avg links per user    Density degree  type\n",
      "----------  ---------  ------------------  --------------------  ----------------  ------\n",
      "True             7075               24819               3.50799       0.000991797  sparse\n"
     ]
    },
    {
     "data": {
      "image/png": "[encoded data removed]",
      "text/plain": [
       "<Figure size 720x360 with 1 Axes>"
      ]
     },
     "metadata": {
      "needs_background": "light"
     },
     "output_type": "display_data"
    }
   ],
   "source": [
    "functionality_1(G)"
   ]
  },
  {
   "cell_type": "code",
   "execution_count": 47,
   "id": "f6e7635c-3605-40c4-9a7f-242607bb3952",
   "metadata": {},
   "outputs": [],
   "source": [
    "def functionality_2(G, u, metric, time_interval, alpha=0.2):\n",
    "    dist(G, u, metric, time_interval, alpha=0.2)\n",
    "    print(\"give me few seconds and I'll show you some nice plots\")\n",
    "    draw_neighs(G,u,time_interval)\n",
    "    return"
   ]
  },
  {
   "cell_type": "code",
   "execution_count": 48,
   "id": "32aa36b2-9193-4564-9448-94a4130b659a",
   "metadata": {},
   "outputs": [
    {
     "name": "stdout",
     "output_type": "stream",
     "text": [
      "give me few seconds and I'll show you some nice plots\n",
      "that's what it was like until 05 March, 2009, with a total of 5 nodes and 8 edges\n"
     ]
    },
    {
     "data": {
      "image/png": "[encoded data removed]",
      "text/plain": [
       "<Figure size 432x288 with 1 Axes>"
      ]
     },
     "metadata": {},
     "output_type": "display_data"
    },
    {
     "name": "stdout",
     "output_type": "stream",
     "text": [
      "that's what it was like until 06 March, 2009, with a total of 9 nodes and 18 edges\n"
     ]
    },
    {
     "data": {
      "image/png": "[encoded data removed]",
      "text/plain": [
       "<Figure size 432x288 with 1 Axes>"
      ]
     },
     "metadata": {},
     "output_type": "display_data"
    },
    {
     "name": "stdout",
     "output_type": "stream",
     "text": [
      "that's what it was like until 07 March, 2009, with a total of 10 nodes and 20 edges\n"
     ]
    },
    {
     "data": {
      "image/png": "[encoded data removed]",
      "text/plain": [
       "<Figure size 432x288 with 1 Axes>"
      ]
     },
     "metadata": {},
     "output_type": "display_data"
    }
   ],
   "source": [
    "functionality_2(G,9345,'Degree',('04 March, 2009', '07 March, 2009'))"
   ]
  },
  {
   "cell_type": "code",
   "execution_count": 49,
   "id": "31f5e322-3753-44f2-ab3c-c574be1d9261",
   "metadata": {},
   "outputs": [],
   "source": [
    "def functionality_3(G,time_interval,users,source,target):\n",
    "    path_ = path(G,time_interval,users,source,target)[1]\n",
    "    draw_path(path_)\n",
    "    print(path_)\n",
    "    return   "
   ]
  },
  {
   "cell_type": "code",
   "execution_count": 50,
   "id": "cd79f78c-280a-4ea0-8ada-65e87271adef",
   "metadata": {},
   "outputs": [
    {
     "data": {
      "image/png": "[encoded data removed]",
      "text/plain": [
       "<Figure size 640x640 with 1 Axes>"
      ]
     },
     "metadata": {},
     "output_type": "display_data"
    },
    {
     "name": "stdout",
     "output_type": "stream",
     "text": [
      "[414876, 72859, 1585, 53055]\n"
     ]
    }
   ],
   "source": [
    "functionality_3(G,('04 March, 2009', '05 March, 2009'),[72859,1585],414876, 53055)"
   ]
  },
  {
   "cell_type": "code",
   "execution_count": 51,
   "id": "17ecaef0-749b-45cc-a389-914b4f30981d",
   "metadata": {},
   "outputs": [],
   "source": [
    "def functionality_4(G,time_interval,u1,u2):\n",
    "    links,edges = disconnect(G,time_interval,u1,u2)\n",
    "    draw_cut_links(edges,G)\n",
    "    return"
   ]
  },
  {
   "cell_type": "code",
   "execution_count": 53,
   "id": "2a5022d5-9cc4-42b6-9f7a-db5bc9bb179a",
   "metadata": {},
   "outputs": [
    {
     "name": "stdout",
     "output_type": "stream",
     "text": [
      "the minimum number of links to cut is 1 with a total weight of 2.0\n"
     ]
    },
    {
     "data": {
      "image/png": "[encoded data removed]",
      "text/plain": [
       "<Figure size 640x640 with 1 Axes>"
      ]
     },
     "metadata": {},
     "output_type": "display_data"
    }
   ],
   "source": [
    "functionality_4(G,('04 March, 2009', '05 March, 2009'),414876,1585)"
   ]
  },
  {
   "cell_type": "code",
   "execution_count": 54,
   "id": "cbb5c6f2-00ab-4a69-8e17-17d7d7f8b107",
   "metadata": {},
   "outputs": [],
   "source": [
    "def program(i, G, u, metric, time_interval, users, source, target, u1, u2):\n",
    "    if i=='1':\n",
    "        return functionality_1(G)\n",
    "    if i=='2':\n",
    "        return functionality_2(G, u, metric, time_interval, alpha=0.2)\n",
    "    if i=='3':\n",
    "        return functionality_3(G,time_interval,users,source,target)\n",
    "    if i=='4':\n",
    "        return functionality_4(G,time_interval,u1,u2)"
   ]
  },
  {
   "cell_type": "markdown",
   "id": "b70ddc00-1c50-42bd-a295-5d26dc1e5a7e",
   "metadata": {
    "tags": []
   },
   "source": [
    "# Part 4"
   ]
  },
  {
   "cell_type": "markdown",
   "id": "2bf9d360-0ef6-49de-8874-f8d0f7e944a3",
   "metadata": {
    "id": "RMB8nBkxTacM",
    "tags": []
   },
   "source": [
    "## 1.  Backtracking\n",
    "Approach: The idea is to assign dormitory one by one to different kids, starting from the index 0. Before assigning a dormitory, check for safety by considering already assigned dormitory to the kid that fight often i.e check if the kids that fight often have the same dormitory or not. If there is any dormitory assignment that does not violate the conditions, mark the dormitory assignment as part of the solution. If no assignment of dormitory is possible then backtrack and return false.\n",
    "\n",
    "Algorithm: \n",
    "\n",
    "1)Create a recursive function that takes the graph, current index, number of vertices, and output dormitory array.\n",
    "\n",
    "2)If the current index is equal to the number of vertices. Print the kids configuration in output array.\n",
    "\n",
    "3)Assign a dormitory to a kid (1 or 2).\n",
    "\n",
    "4)For every assigned dormitory, check if the configuration is safe, (i.e. check if the kids that fight ofte4n do not have the same dormitory) recursively call the function with next index and number of kids\n",
    "\n",
    "5)If any recursive function returns true break the loop and return true.\n",
    "\n",
    "6)If no recursive function returns true then return false.\n",
    "\n",
    "## Complexity \n",
    "#### Time Complexity: O(2^n). \n",
    "There are total O(2^n) combination of dormitory. So time complexity is O(2^n). The upperbound time complexity remains the same but the average time taken will be less.\n",
    "#### Space Complexity: O(n). \n",
    "Recursive Stack of dormitoryAssignment(…) function will require O(n) space."
   ]
  },
  {
   "cell_type": "code",
   "execution_count": 55,
   "id": "49d1032e-ebbe-4745-b2c2-d99b2657499a",
   "metadata": {
    "id": "aoNA9v58hKWc"
   },
   "outputs": [],
   "source": [
    "class Camp():\n",
    "\n",
    "\tdef __init__(self, n,k):\n",
    "\t\tself.V = n\n",
    "\t\tself.graph = [[0 for column in range(n)]\\\n",
    "\t\t\t\t\t\t\tfor row in range(n)]\n",
    "\n",
    "\t\n",
    "\tdef isSafe(self, v, dormitory, c):\n",
    "\t\tfor i in range(self.V):\n",
    "\t\t\tif self.graph[v][i] == 1 and dormitory[i] == c:\n",
    "\t\t\t\treturn False\n",
    "\t\treturn True\n",
    "\t\n",
    "\t\n",
    "\tdef dormitoryAssignmentUtil(self, dormitory, v, m=2):\n",
    "\t\tif v == self.V:\n",
    "\t\t\treturn True\n",
    "\n",
    "\t\tfor c in range(1, m + 1):\n",
    "\t\t\tif self.isSafe(v, dormitory, c) == True:\n",
    "\t\t\t\tdormitory[v] = c\n",
    "\t\t\t\tif self.dormitoryAssignmentUtil(m, dormitory, v + 1) == True:\n",
    "\t\t\t\t\treturn True\n",
    "\t\t\t\tdormitory[v] = 0\n",
    "\n",
    "\tdef dormitoryAssignment(self, m=2):\n",
    "\t\tdormitory = [0] * self.V\n",
    "\t\tif self.graphColourUtil(m, dormitory, 0) == None:\n",
    "\t\t\treturn False\n",
    "\n",
    "\t\t\n",
    "\t\tprint (\"Solution exist and Following are the assigned dormitories:\")\n",
    "\t\tfor c in dormitory:\n",
    "\t\t\tprint (c),\n",
    "\t\treturn True\n",
    "\n",
    "\n"
   ]
  },
  {
   "cell_type": "markdown",
   "id": "bf6b0265-0725-4818-85f6-779d9204fb83",
   "metadata": {
    "id": "eXek7TjWjdgi",
    "tags": []
   },
   "source": [
    "## Approach 2:  Using BFS\n",
    "Lets consider every kid as a node of a graph.\n",
    "The approach here is to assign a dormitory 1 to each kid from 1 to n initially. And start travelling BFS from an unvisited starting kid to cover all connected components in one go. On reaching each kid during BFS traversal, do the following:\n",
    "\n",
    "Check all pairs of the given kid.\n",
    "For each kid connected to our kid via a pair:\n",
    "check if the kid fight often with our kid. If same, change the dormitory of the other kid (not the current) to 2.\n",
    "check if it visited or unvisited. If not visited, mark it as visited and push it in a queue.\n",
    "Check condition for maxDormitory till now. If it exceeds 2, return false\n",
    "After visiting all kids, return true (As no violating condition could be found while travelling).\n",
    "\n",
    "## Complexity Analysis:\n",
    "\n",
    "### Time Complexity: O(n+k).\n",
    "### Space Complexity: O(n). For Storing Visited List."
   ]
  },
  {
   "cell_type": "code",
   "execution_count": 56,
   "id": "82653bff-1032-4663-a663-377e3a27b96e",
   "metadata": {
    "id": "0hNy4goMis7X"
   },
   "outputs": [],
   "source": [
    "class node:\n",
    "\t\n",
    "\tdormitory = 1\n",
    "\tedges = set()\n",
    "\n",
    "def canSleep(nodes, n, m=2):\n",
    "\n",
    "\t# Create a visited array of n\n",
    "\t# nodes, initialized to zero\n",
    "\tvisited = [0 for _ in range(n+1)]\n",
    "\n",
    "\t# maxDormitory used till now are 1 as\n",
    "\t# all kids are in dormitory 1\n",
    "\tmaxDormitory = 1\n",
    "\n",
    "\t# Do a full BFS traversal from\n",
    "\t# all unvisited starting points\n",
    "\tfor i in range(1, n + 1):\n",
    "\t\tif visited[i]:\n",
    "\t\t\tcontinue\n",
    "\n",
    "\t\t\n",
    "\t\tvisited[i] = 1\n",
    "\t\tq = Queue()\n",
    "\t\tq.put(i)\n",
    "\n",
    "\t\t# BFS Travel starts here\n",
    "\t\twhile not q.empty():\n",
    "\t\t\ttop = q.get()\n",
    "\n",
    "\t\t\t\n",
    "\t\t\tfor j in nodes[top].edges:\n",
    "\n",
    "\t\t\t\t\n",
    "\n",
    "\t\t\t\tif nodes[top].fight_often == nodes[j].fight_often:\n",
    "\t\t\t\t\tnodes[j].color = 2\n",
    "\n",
    "\t\t\t\t\n",
    "\t\t\t\t\t\n",
    "\t\t\t\tif maxDormitory > m:\n",
    "\t\t\t\t\tprint(maxDormitory)\n",
    "\t\t\t\t\treturn 0\n",
    "\n",
    "\t\t\t\t\n",
    "\t\t\t\tif not visited[_]:\n",
    "\t\t\t\t\tvisited[_] = 1\n",
    "\t\t\t\t\tq.put(_)\n",
    "\t\t\t\t\t\n",
    "\treturn 1\n",
    "\n",
    "\n"
   ]
  }
 ],
 "metadata": {
  "kernelspec": {
   "display_name": "Python 3",
   "language": "python",
   "name": "python3"
  },
  "language_info": {
   "codemirror_mode": {
    "name": "ipython",
    "version": 3
   },
   "file_extension": ".py",
   "mimetype": "text/x-python",
   "name": "python",
   "nbconvert_exporter": "python",
   "pygments_lexer": "ipython3",
   "version": "3.8.8"
  }
 },
 "nbformat": 4,
 "nbformat_minor": 5
}
